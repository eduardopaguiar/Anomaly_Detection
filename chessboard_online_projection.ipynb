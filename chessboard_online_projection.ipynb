{
 "cells": [
  {
   "cell_type": "code",
   "execution_count": 1,
   "metadata": {},
   "outputs": [],
   "source": [
    "import numpy as np\n",
    "from numba import njit\n",
    "import pickle\n",
    "\n",
    "from scipy.spatial.distance import cdist, pdist"
   ]
  },
  {
   "cell_type": "code",
   "execution_count": 2,
   "metadata": {},
   "outputs": [],
   "source": [
    "var = pickle.load(open('var.pickle', 'rb'))\n"
   ]
  },
  {
   "cell_type": "code",
   "execution_count": 3,
   "metadata": {},
   "outputs": [],
   "source": [
    "BOX_miu = var['BOX_miu']\n",
    "BOXG = var['BOXG']\n",
    "NB = var['NB']\n",
    "interval1 = var['interval1']\n",
    "interval2 = var['interval2']"
   ]
  },
  {
   "cell_type": "code",
   "execution_count": 4,
   "metadata": {
    "scrolled": true
   },
   "outputs": [
    {
     "name": "stdout",
     "output_type": "stream",
     "text": [
      "----- BOX_miu -----\n",
      "[[14.95026657 -2.49513858  1.08329909 ... -0.77966473  1.33400379\n",
      "   0.14598842]\n",
      " [12.91330806 -4.78882708  3.26570517 ...  0.97170965  2.42642645\n",
      "  -0.18516359]\n",
      " [ 9.29097232  6.39343343  2.50659111 ...  5.98935651 -0.29082587\n",
      "   2.321144  ]\n",
      " ...\n",
      " [ 1.40713921  3.8946079  -2.62881626 ...  0.60813352  0.69324394\n",
      "   1.41036463]\n",
      " [ 5.73160474 -0.730143    1.43264209 ... -3.22497985  0.25149412\n",
      "  -0.87659361]\n",
      " [-1.3687837   0.88025944 -2.2674405  ...  0.34591206 -0.71409173\n",
      "  -0.40471209]]\n",
      "----- BOXG -----\n",
      "[0.379728   0.2945503  0.26140656 0.25803701 0.17646112 0.17002029\n",
      " 0.16761585 0.15754701 0.15276545 0.1495008  0.14147018 0.14203024\n",
      " 0.13794973 0.13381941 0.12976737 0.10721593 0.10360611 0.10260562\n",
      " 0.09731847 0.09582816 0.09488369 0.09124841 0.08532286 0.08463549\n",
      " 0.08500186 0.08261603 0.0817933  0.08182261 0.08201287 0.15526337\n",
      " 0.07960983 0.07832987 0.07622987 0.07686049 0.07406293 0.07482985\n",
      " 0.07405985 0.07423108 0.07351631 0.07272718 0.07352328 0.07066242\n",
      " 0.07166171 0.07025115 0.07153015 0.06986145 0.0710684  0.06921044\n",
      " 0.06754373 0.06423344 0.06517088 0.06451197 0.06298691 0.06215576\n",
      " 0.06029978 0.06097781 0.06171988 0.16359252 0.05963785 0.05960099\n",
      " 0.05991205 0.05862158 0.05867465 0.05772997 0.0587785  0.05917869\n",
      " 0.05784157 0.05916334 0.05742706 0.0580441  0.05632339 0.05736625\n",
      " 0.05469131 0.05432173 0.05536709 0.05567091 0.05418792 0.10633867\n",
      " 0.05338807 0.05527104 0.05435259 0.05382385 0.05477459 0.05224174\n",
      " 0.05246446 0.05186131 0.05293897 0.05259469 0.05297296 0.05151274\n",
      " 0.05199358 0.15112111 0.10097759 0.05165262 0.05124696 0.05234946\n",
      " 0.14897616 0.0504055  0.05043498 0.05146617 0.10237054 0.05055413\n",
      " 0.15222611 0.05028256 0.05055676 0.0969513  0.09497404 0.05073925\n",
      " 0.04922794 0.05004903 0.05091546 0.10039009 0.04936431 0.05050651\n",
      " 0.05061807 0.0486028  0.05003508 0.05042946 0.09614247 0.04904949\n",
      " 0.10111291 0.04991615 0.049429   0.04844258 0.04880872 0.04982451\n",
      " 0.04851993 0.04854595 0.04935365 0.04980098 0.04878033 0.04920433\n",
      " 0.04897095 0.09629604 0.04857506 0.04806731 0.09397952 0.04873348\n",
      " 0.04778428 0.09634094 0.04725621 0.04898043 0.04893761 0.04693008\n",
      " 0.04809477 0.04844246 0.04746243 0.04673966 0.04705713 0.09873002\n",
      " 0.04809471 0.13591801 0.04683669 0.047627   0.04697866 0.04705874\n",
      " 0.13912001 0.04675987 0.09282348 0.04699163 0.04659466 0.14095224\n",
      " 0.04675209 0.13235196 0.04611764 0.08949649 0.046161   0.04546682\n",
      " 0.04685036 0.04600014 0.09127545 0.04648432 0.04665181 0.09084766\n",
      " 0.04564587 0.09274955 0.04550281 0.09700884 0.04483449 0.13487949\n",
      " 0.08756137 0.04589913 0.0461249  0.08901598 0.04464956 0.04630421\n",
      " 0.04603321 0.04445123 0.0881302  0.04535401 0.0456993  0.04580279\n",
      " 0.0454457  0.04406021 0.04472012 0.09256211 0.04520764 0.04429742\n",
      " 0.04495898 0.04393409 0.04436444 0.04427982 0.04362861 0.04448128\n",
      " 0.04433337 0.04439774 0.04447034 0.04453384 0.04332114 0.04378336\n",
      " 0.04313322 0.04330996 0.04418279 0.04391299 0.04341759 0.04358199\n",
      " 0.08752939 0.0436152  0.04230255 0.04363293 0.04351971 0.04374852\n",
      " 0.04325005 0.04352001 0.04357236 0.17393822 0.04241041 0.09015287\n",
      " 0.04275389 0.08581961 0.04301211 0.04284784 0.04246186 0.04219762\n",
      " 0.04277227 0.08782184 0.04221959 0.04271756 0.0418522  0.04193644\n",
      " 0.08490521 0.04198701 0.04211523 0.04243295 0.04231677 0.04196043\n",
      " 0.04162473 0.04212512 0.04207192 0.04200082 0.08439105 0.04130227\n",
      " 0.07919281 0.04093502 0.04023373 0.040992   0.04118847 0.04002884\n",
      " 0.04070257 0.04077329 0.07947616 0.03977824 0.04030175 0.04031644\n",
      " 0.04024719 0.04016613 0.04027329 0.03956342 0.03944875 0.03956841\n",
      " 0.03945396 0.03917512 0.038745   0.03873906 0.03865175 0.03798535\n",
      " 0.11795682 0.04686551 0.05137129 0.04773617 0.05023092 0.09140899\n",
      " 0.04531253 0.13979289 0.05699217 0.05018099 0.04723807 0.05368805\n",
      " 0.04743099 0.04319554 0.0451641  0.09173791 0.05952472 0.08338114\n",
      " 0.08793369 0.04973568 0.05004317 0.04641933 0.04401261 0.05118547\n",
      " 0.05922238 0.04856538 0.04382244 0.04597163 0.03745701 0.04445897\n",
      " 0.04969577 0.04868664 0.04308476 0.0437945  0.1232945  0.06166279\n",
      " 0.04380598 0.04851056 0.04527977 0.04431131 0.06885314 0.05537347\n",
      " 0.0631504  0.04690311 0.03920262 0.06393753 0.04862284 0.10663654\n",
      " 0.05355614 0.04075626 0.04831574 0.06733732 0.04522198 0.07297991\n",
      " 0.0439615  0.04105533 0.04539898 0.0851016  0.04669072 0.04206347\n",
      " 0.06237336 0.04440416 0.0552519  0.04592207 0.09722851 0.04292817\n",
      " 0.04269413 0.04168476 0.04148712 0.1693381  0.04384617 0.03768819\n",
      " 0.04252524 0.0617397  0.04534789 0.04079258 0.04590402 0.12351087\n",
      " 0.047417   0.04264858 0.04793574 0.05262921 0.04202012 0.05623465\n",
      " 0.04302131 0.04346699 0.34964862 0.04330642 0.03966602 0.06080473\n",
      " 0.05959067 0.04100494 0.04382534 0.09563507 0.04369125 0.24616961\n",
      " 0.04858251 0.04235843 0.08468084 0.04927955 0.04146057 0.0585565\n",
      " 0.04352419 0.04950956 0.0413993  0.04508255 0.04335639 0.08107087\n",
      " 0.07837959 0.0477191  0.11386561 0.0422009  0.04165289 0.04267818\n",
      " 0.05391314 0.05578548 0.04626505 0.0474572  0.04304734 0.12243879\n",
      " 0.07059343 0.04160931 0.04666779 0.04131045 0.05460118 0.07088833\n",
      " 0.06079942 0.04719712 0.04766103 0.06581234 0.04431538 0.04593875\n",
      " 0.04731413 0.10175375 0.0498664  0.03892869 0.0635367  0.04512009\n",
      " 0.04093686 0.05662396 0.04886016 0.08685541 0.06322341 0.04227654\n",
      " 0.07711104 0.1177552  0.04213728 0.04301404 0.0866148  0.03662882\n",
      " 0.04529085 0.04113122 0.38212771 0.04529865 0.04788821 0.04455646\n",
      " 0.13445965 0.04535837 0.04248702 0.04640831 0.06115429 0.09580911\n",
      " 0.04460823]\n",
      "----- NB -----\n",
      "439\n",
      "----- interval1 -----\n",
      "1.3732766836204786\n",
      "----- interval2 -----\n",
      "0.19823708515991725\n"
     ]
    }
   ],
   "source": [
    "print(\"----- BOX_miu -----\")\n",
    "print(BOX_miu)\n",
    "\n",
    "print(\"----- BOXG -----\")\n",
    "print(BOXG)\n",
    "\n",
    "print(\"----- NB -----\")\n",
    "print(NB)\n",
    "\n",
    "print(\"----- interval1 -----\")\n",
    "print(interval1)\n",
    "\n",
    "print(\"----- interval2 -----\")\n",
    "print(interval2)"
   ]
  },
  {
   "cell_type": "code",
   "execution_count": 5,
   "metadata": {},
   "outputs": [],
   "source": [
    "def ChessBoard_online_projection_std(BOX_miu,BOXMT,NB,interval1,interval2):\n",
    "    Centers = []\n",
    "    ModeNumber = 0\n",
    "    n = 2\n",
    "    \n",
    "    for ii in range(NB):\n",
    "        Reference = BOX_miu[ii]\n",
    "        distance1 = np.zeros((NB,1))\n",
    "        distance2 = np.zeros((NB,1))\n",
    "        for i in range(NB):\n",
    "            distance1[i] = pdist([list(Reference), list(BOX_miu[i])], 'euclidean')\n",
    "\n",
    "            distance2[i] = np.sqrt(pdist([list(Reference), list(BOX_miu[i])], 'cosine'))\n",
    "            \n",
    "\n",
    "        Chessblocak_typicality = []\n",
    "        for i in range(NB):\n",
    "            if distance1[i]<n*interval1 and distance2[i]<n*interval2:\n",
    "                Chessblocak_typicality.append(BOXMT[i])\n",
    "        if max(Chessblocak_typicality) == BOXMT[ii]:\n",
    "            Centers.append(Reference)\n",
    "            ModeNumber += 1\n",
    "    return Centers,ModeNumber"
   ]
  },
  {
   "cell_type": "code",
   "execution_count": 6,
   "metadata": {},
   "outputs": [
    {
     "name": "stdout",
     "output_type": "stream",
     "text": [
      "Wall time: 6.98 s\n"
     ]
    }
   ],
   "source": [
    "%%time\n",
    "Centers_std, ModeNumber_std = ChessBoard_online_projection_std(BOX_miu,BOXG,NB,interval1,interval2)"
   ]
  },
  {
   "cell_type": "code",
   "execution_count": null,
   "metadata": {},
   "outputs": [],
   "source": [
    "print(\"----- Centers -----\")\n",
    "print(Centers_std)\n",
    "\n",
    "print(\"----- Mode Number -----\")\n",
    "print(ModeNumber_std)"
   ]
  },
  {
   "cell_type": "code",
   "execution_count": 7,
   "metadata": {},
   "outputs": [],
   "source": [
    "@njit\n",
    "def ChessBoard_online_projection_njit(BOX_miu,BOXMT,NB,interval1,interval2):\n",
    "    Centers = []\n",
    "    ModeNumber = 0\n",
    "    n = 2\n",
    "    \n",
    "    for ii in range(NB):\n",
    "        Reference = BOX_miu[ii]\n",
    "        distance1 = np.zeros((NB,1))\n",
    "        distance2 = np.zeros((NB,1))\n",
    "        for i in range(NB):\n",
    "            \n",
    "            \n",
    "            # pdist euclidean\n",
    "            # distance1[i] = pdist(np.vstack((Reference, BOX_miu[i])), 'euclidean')\n",
    "            W, = Reference.shape\n",
    "            \n",
    "            aux = 0\n",
    "            for iii in range(W):\n",
    "                aux += (Reference[iii] - BOX_miu[i, iii])**2 \n",
    "                \n",
    "            distance1[i] = aux**.5\n",
    "                \n",
    "            # pdist cosine\n",
    "            # distance2[i] = np.sqrt(pdist(np.vstack((Reference, BOX_miu[i])), 'cosine'))\n",
    "            \n",
    "            \n",
    "            num = 0\n",
    "            den1 = 0\n",
    "            den2 = 0\n",
    "            for iii in range(W):\n",
    "                num += Reference[iii]*BOX_miu[i, iii]\n",
    "                den1 += Reference[iii]**2\n",
    "                den2 += BOX_miu[i, iii]**2\n",
    "            \n",
    "            d2 = (1 - num/(den1**.5 * den2**.5) )\n",
    "            if d2 < 0:\n",
    "                distance2[i] = 0\n",
    "            else:\n",
    "                distance2[i] = d2**.5\n",
    "              \n",
    "        \n",
    "        Chessblocak_typicality = []\n",
    "        for i in range(NB):\n",
    "            if distance1[i]<n*interval1 and distance2[i]<n*interval2:\n",
    "                Chessblocak_typicality.append(BOXMT[i])\n",
    "        if max(Chessblocak_typicality) == BOXMT[ii]:\n",
    "            Centers.append(Reference)\n",
    "            ModeNumber += 1\n",
    "    return Centers,ModeNumber"
   ]
  },
  {
   "cell_type": "code",
   "execution_count": 10,
   "metadata": {},
   "outputs": [
    {
     "name": "stdout",
     "output_type": "stream",
     "text": [
      "Wall time: 35.9 ms\n"
     ]
    }
   ],
   "source": [
    "%%time\n",
    "Centers_njit, ModeNumber_njit = ChessBoard_online_projection_njit(BOX_miu,BOXG,NB,interval1,interval2)"
   ]
  },
  {
   "cell_type": "code",
   "execution_count": null,
   "metadata": {},
   "outputs": [],
   "source": [
    "print(\"----- Centers -----\")\n",
    "print(Centers_njit)\n",
    "\n",
    "print(\"----- Mode Number -----\")\n",
    "print(ModeNumber_njit)"
   ]
  },
  {
   "cell_type": "code",
   "execution_count": 11,
   "metadata": {},
   "outputs": [
    {
     "name": "stdout",
     "output_type": "stream",
     "text": [
      "----- Centers -----\n",
      "[0. 0. 0. 0. 0. 0. 0. 0.]\n",
      "STD Type:  <class 'list'>\n",
      "NJIT Type:  <class 'list'>\n",
      "----- Mode Number -----\n",
      "0\n",
      "STD Type:  <class 'int'>\n",
      "NJIT Type:  <class 'int'>\n"
     ]
    }
   ],
   "source": [
    "print(\"----- Centers -----\")\n",
    "print(sum([Centers_std[i] - Centers_njit[i] for i in range(len(Centers_std))]))\n",
    "print(\"STD Type: \", type(Centers_std))\n",
    "print(\"NJIT Type: \", type(Centers_njit))\n",
    "\n",
    "print(\"----- Mode Number -----\")\n",
    "print(ModeNumber_std - ModeNumber_njit)\n",
    "print(\"STD Type: \", type(ModeNumber_std))\n",
    "print(\"NJIT Type: \", type(ModeNumber_njit))"
   ]
  },
  {
   "cell_type": "code",
   "execution_count": null,
   "metadata": {},
   "outputs": [],
   "source": []
  }
 ],
 "metadata": {
  "kernelspec": {
   "display_name": "Python 3",
   "language": "python",
   "name": "python3"
  },
  "language_info": {
   "codemirror_mode": {
    "name": "ipython",
    "version": 3
   },
   "file_extension": ".py",
   "mimetype": "text/x-python",
   "name": "python",
   "nbconvert_exporter": "python",
   "pygments_lexer": "ipython3",
   "version": "3.8.5"
  }
 },
 "nbformat": 4,
 "nbformat_minor": 4
}
