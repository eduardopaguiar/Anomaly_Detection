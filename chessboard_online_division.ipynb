{
 "cells": [
  {
   "cell_type": "code",
   "execution_count": 268,
   "metadata": {},
   "outputs": [],
   "source": [
    "import numpy as np\n",
    "from numba import njit\n",
    "import numba as nb\n",
    "import pickle\n",
    "from numba.typed import List\n",
    "\n",
    "from scipy.spatial.distance import cdist, pdist"
   ]
  },
  {
   "cell_type": "code",
   "execution_count": 273,
   "metadata": {},
   "outputs": [],
   "source": [
    "var = pickle.load(open('var1.pickle', 'rb'))"
   ]
  },
  {
   "cell_type": "code",
   "execution_count": 274,
   "metadata": {},
   "outputs": [
    {
     "name": "stdout",
     "output_type": "stream",
     "text": [
      "<class 'numpy.matrix'>\n",
      "<class 'numpy.ndarray'>\n",
      "<class 'numpy.ndarray'>\n",
      "<class 'numpy.ndarray'>\n",
      "<class 'int'>\n",
      "<class 'numpy.float64'>\n",
      "<class 'numpy.float64'>\n"
     ]
    }
   ],
   "source": [
    "data = var['Data2[k,:]'] \n",
    "Box = var ['BOX']\n",
    "BOX_miu = var ['BOX_miu']\n",
    "BOX_S = var ['BOX_S']\n",
    "NB = var ['NB']\n",
    "intervel1 = var ['interval1']\n",
    "intervel2 = var ['interval2']\n",
    "\n",
    "print(type(data))\n",
    "print(type(Box))\n",
    "print(type(BOX_miu))\n",
    "print(type(BOX_S))\n",
    "print(type(NB))\n",
    "print(type(intervel1))\n",
    "print(type(intervel2))"
   ]
  },
  {
   "cell_type": "code",
   "execution_count": 275,
   "metadata": {},
   "outputs": [
    {
     "name": "stdout",
     "output_type": "stream",
     "text": [
      "[]\n",
      "[]\n",
      "[]\n",
      "277\n",
      "1.391359885272717\n",
      "0.19814776281719967\n"
     ]
    }
   ],
   "source": [
    "print(Box)\n",
    "print(BOX_miu)\n",
    "print(BOX_S)\n",
    "print(NB)\n",
    "print(intervel1)\n",
    "print(intervel2)"
   ]
  },
  {
   "cell_type": "code",
   "execution_count": 276,
   "metadata": {},
   "outputs": [],
   "source": [
    "def Chessboard_online_division_std(data,Box,BOX_miu,BOX_S,NB,intervel1,intervel2):\n",
    "    distance = np.zeros((NB,2))\n",
    "    COUNT = 0\n",
    "    SQ = []\n",
    "\n",
    "    for i in range(NB):\n",
    "\n",
    "\n",
    "        distance[i,0] = pdist([list(BOX_miu[i]), data.tolist()[0]],'euclidean')\n",
    "\n",
    "        distance[i,1] = np.sqrt(pdist([list(BOX_miu[i]), data.tolist()[0]],'cosine'))\n",
    "        \n",
    "        if distance[i,0] < intervel1 and distance[i,1] < intervel2:\n",
    "            COUNT += 1\n",
    "            SQ.append(i)\n",
    "\n",
    "    if COUNT == 0:\n",
    "        Box_new = np.concatenate((Box, np.array(data)))\n",
    "        NB_new = NB+1\n",
    "        BOX_S_new = np.concatenate((BOX_S, np.array([1])))\n",
    "        #BOX_S_new = np.array(BOX_S)\n",
    "        BOX_miu_new = np.concatenate((BOX_miu, np.array(data)))\n",
    "    if COUNT>=1:\n",
    "        DIS = np.zeros((COUNT,1))\n",
    "        for j in range(COUNT):\n",
    "            DIS[j] = distance[SQ[j],0] + distance[SQ[j],1]\n",
    "        a = np.amin(DIS)\n",
    "        b = int(np.where(DIS == a)[0])\n",
    "        Box_new = Box\n",
    "        NB_new = NB\n",
    "        BOX_S_new = np.array(BOX_S)\n",
    "        BOX_miu_new = np.array(BOX_miu)\n",
    "        BOX_S_new[SQ[b]] = BOX_S[SQ[b]] + 1\n",
    "        BOX_miu_new[SQ[b]] = BOX_S[SQ[b]]/BOX_S_new[SQ[b]]*BOX_miu[SQ[b]]+data/BOX_S_new[SQ[b]]\n",
    "    \n",
    "            \n",
    "    \n",
    "    return Box_new,BOX_miu_new,BOX_S_new,NB_new"
   ]
  },
  {
   "cell_type": "code",
   "execution_count": 277,
   "metadata": {},
   "outputs": [
    {
     "ename": "IndexError",
     "evalue": "index 0 is out of bounds for axis 0 with size 0",
     "output_type": "error",
     "traceback": [
      "\u001b[1;31m---------------------------------------------------------------------------\u001b[0m",
      "\u001b[1;31mIndexError\u001b[0m                                Traceback (most recent call last)",
      "\u001b[1;32m<timed exec>\u001b[0m in \u001b[0;36m<module>\u001b[1;34m\u001b[0m\n",
      "\u001b[1;32m<ipython-input-276-ccc25515caa5>\u001b[0m in \u001b[0;36mChessboard_online_division_std\u001b[1;34m(data, Box, BOX_miu, BOX_S, NB, intervel1, intervel2)\u001b[0m\n\u001b[0;32m      7\u001b[0m \u001b[1;33m\u001b[0m\u001b[0m\n\u001b[0;32m      8\u001b[0m \u001b[1;33m\u001b[0m\u001b[0m\n\u001b[1;32m----> 9\u001b[1;33m         \u001b[0mdistance\u001b[0m\u001b[1;33m[\u001b[0m\u001b[0mi\u001b[0m\u001b[1;33m,\u001b[0m\u001b[1;36m0\u001b[0m\u001b[1;33m]\u001b[0m \u001b[1;33m=\u001b[0m \u001b[0mpdist\u001b[0m\u001b[1;33m(\u001b[0m\u001b[1;33m[\u001b[0m\u001b[0mlist\u001b[0m\u001b[1;33m(\u001b[0m\u001b[0mBOX_miu\u001b[0m\u001b[1;33m[\u001b[0m\u001b[0mi\u001b[0m\u001b[1;33m]\u001b[0m\u001b[1;33m)\u001b[0m\u001b[1;33m,\u001b[0m \u001b[0mdata\u001b[0m\u001b[1;33m.\u001b[0m\u001b[0mtolist\u001b[0m\u001b[1;33m(\u001b[0m\u001b[1;33m)\u001b[0m\u001b[1;33m[\u001b[0m\u001b[1;36m0\u001b[0m\u001b[1;33m]\u001b[0m\u001b[1;33m]\u001b[0m\u001b[1;33m,\u001b[0m\u001b[1;34m'euclidean'\u001b[0m\u001b[1;33m)\u001b[0m\u001b[1;33m\u001b[0m\u001b[1;33m\u001b[0m\u001b[0m\n\u001b[0m\u001b[0;32m     10\u001b[0m \u001b[1;33m\u001b[0m\u001b[0m\n\u001b[0;32m     11\u001b[0m         \u001b[0mdistance\u001b[0m\u001b[1;33m[\u001b[0m\u001b[0mi\u001b[0m\u001b[1;33m,\u001b[0m\u001b[1;36m1\u001b[0m\u001b[1;33m]\u001b[0m \u001b[1;33m=\u001b[0m \u001b[0mnp\u001b[0m\u001b[1;33m.\u001b[0m\u001b[0msqrt\u001b[0m\u001b[1;33m(\u001b[0m\u001b[0mpdist\u001b[0m\u001b[1;33m(\u001b[0m\u001b[1;33m[\u001b[0m\u001b[0mlist\u001b[0m\u001b[1;33m(\u001b[0m\u001b[0mBOX_miu\u001b[0m\u001b[1;33m[\u001b[0m\u001b[0mi\u001b[0m\u001b[1;33m]\u001b[0m\u001b[1;33m)\u001b[0m\u001b[1;33m,\u001b[0m \u001b[0mdata\u001b[0m\u001b[1;33m.\u001b[0m\u001b[0mtolist\u001b[0m\u001b[1;33m(\u001b[0m\u001b[1;33m)\u001b[0m\u001b[1;33m[\u001b[0m\u001b[1;36m0\u001b[0m\u001b[1;33m]\u001b[0m\u001b[1;33m]\u001b[0m\u001b[1;33m,\u001b[0m\u001b[1;34m'cosine'\u001b[0m\u001b[1;33m)\u001b[0m\u001b[1;33m)\u001b[0m\u001b[1;33m\u001b[0m\u001b[1;33m\u001b[0m\u001b[0m\n",
      "\u001b[1;31mIndexError\u001b[0m: index 0 is out of bounds for axis 0 with size 0"
     ]
    }
   ],
   "source": [
    "%%time\n",
    "Box_new_std, BOX_miu_new_std, BOX_S_new_std, NB_new_std = Chessboard_online_division_std(data,Box,BOX_miu,BOX_S,NB,intervel1,intervel2)"
   ]
  },
  {
   "cell_type": "code",
   "execution_count": 278,
   "metadata": {},
   "outputs": [],
   "source": [
    "@njit\n",
    "def Chessboard_online_division_njit(data,Box,BOX_miu,BOX_S,NB,intervel1,intervel2):\n",
    "    distance = np.zeros((NB,2))\n",
    "    COUNT = 0\n",
    "    SQ = []\n",
    "    \n",
    "    \n",
    "    _, W = data.shape\n",
    "    for i in range(NB):\n",
    "        # pdist euclidean\n",
    "        # distance[i,0] = pdist([list(BOX_miu[i]), data.tolist()[0]],'euclidean')\n",
    "            \n",
    "        aux = 0\n",
    "        for iii in range(W):\n",
    "            aux += (BOX_miu[i, iii] - data[0, iii])**2 \n",
    "                \n",
    "        distance[i,0] = aux**.5\n",
    "                \n",
    "        # pdist cosine\n",
    "        # distance[i,1] = np.sqrt(pdist([list(BOX_miu[i]), data.tolist()[0]],'cosine'))\n",
    "            \n",
    "        num = 0\n",
    "        den1 = 0\n",
    "        den2 = 0\n",
    "        for iii in range(W):\n",
    "            num += BOX_miu[i,iii]*data[0, iii]\n",
    "            den1 += BOX_miu[i,iii]**2\n",
    "            den2 += data[0, iii]**2\n",
    "            \n",
    "        d2 = (1 - num/(den1**.5 * den2**.5) )\n",
    "        if d2 < 0:\n",
    "            distance[i,1] = 0\n",
    "        else:\n",
    "            distance[i,1] = d2**.5\n",
    "                \n",
    "        \n",
    "        if distance[i,0] < intervel1 and distance[i,1] < intervel2:\n",
    "            COUNT += 1\n",
    "            SQ.append(i)\n",
    "\n",
    "            \n",
    "    Box_new = List(Box)\n",
    "    BOX_S_new = List(BOX_S)\n",
    "    BOX_miu_new = List(BOX_miu)\n",
    "    \n",
    "    if COUNT == 0:\n",
    "        Box_new.append(List(data)[0])\n",
    "        NB_new = NB+1\n",
    "        BOX_S_new.append(nb.int32(1))\n",
    "        BOX_miu_new.append(List(data)[0])\n",
    "        \n",
    "    if COUNT>=1:\n",
    "        DIS = np.zeros((COUNT,1))\n",
    "        for j in range(COUNT):\n",
    "            DIS[j] = distance[SQ[j],0] + distance[SQ[j],1]\n",
    "        \n",
    "        mini = DIS[0]\n",
    "        for ii in range(1,len(DIS)):\n",
    "            if DIS[ii] < mini:\n",
    "                mini = DIS[ii]\n",
    "                b = ii\n",
    "\n",
    "        \n",
    "        NB_new = NB\n",
    "        BOX_S_new[SQ[b]] = BOX_S[SQ[b]] + 1\n",
    "        for i in range(W):\n",
    "            BOX_miu_new[SQ[b]][i] = BOX_S[SQ[b]]/BOX_S_new[SQ[b]]*BOX_miu[SQ[b]][i]+data[0,i]/BOX_S_new[SQ[b]]\n",
    "    \n",
    "    \n",
    "    #Box_new = np.asarray(Box_new)\n",
    "    #BOX_miu_new = np.asarray(BOX_miu_new)\n",
    "    #BOX_S_new = np.asarray(BOX_S_new)\n",
    "    return Box_new,BOX_miu_new,BOX_S_new,NB_new"
   ]
  },
  {
   "cell_type": "code",
   "execution_count": 279,
   "metadata": {},
   "outputs": [
    {
     "ename": "ZeroDivisionError",
     "evalue": "division by zero",
     "output_type": "error",
     "traceback": [
      "\u001b[1;31m---------------------------------------------------------------------------\u001b[0m",
      "\u001b[1;31mZeroDivisionError\u001b[0m                         Traceback (most recent call last)",
      "\u001b[1;32m<timed exec>\u001b[0m in \u001b[0;36m<module>\u001b[1;34m\u001b[0m\n",
      "\u001b[1;31mZeroDivisionError\u001b[0m: division by zero"
     ]
    }
   ],
   "source": [
    "%%time\n",
    "Box_new_njit, BOX_miu_new_njit, BOX_S_new_njit, NB_new_njit = Chessboard_online_division_njit(np.array(data),Box,BOX_miu,BOX_S,NB,intervel1,intervel2)\n",
    "\n",
    "Box_new_njit = np.asarray(Box_new_njit)\n",
    "BOX_miu_new_njit = np.asarray(BOX_miu_new_njit)\n",
    "BOX_S_new_njit = np.asarray(BOX_S_new_njit)"
   ]
  },
  {
   "cell_type": "code",
   "execution_count": 280,
   "metadata": {},
   "outputs": [
    {
     "name": "stdout",
     "output_type": "stream",
     "text": [
      "----- Box_new -----\n"
     ]
    },
    {
     "ename": "ValueError",
     "evalue": "operands could not be broadcast together with shapes (277,8) (437,8) ",
     "output_type": "error",
     "traceback": [
      "\u001b[1;31m---------------------------------------------------------------------------\u001b[0m",
      "\u001b[1;31mValueError\u001b[0m                                Traceback (most recent call last)",
      "\u001b[1;32m<ipython-input-280-a6782ee1366e>\u001b[0m in \u001b[0;36m<module>\u001b[1;34m\u001b[0m\n\u001b[0;32m      1\u001b[0m \u001b[0mprint\u001b[0m\u001b[1;33m(\u001b[0m\u001b[1;34m\"----- Box_new -----\"\u001b[0m\u001b[1;33m)\u001b[0m\u001b[1;33m\u001b[0m\u001b[1;33m\u001b[0m\u001b[0m\n\u001b[1;32m----> 2\u001b[1;33m \u001b[0mprint\u001b[0m\u001b[1;33m(\u001b[0m\u001b[0msum\u001b[0m\u001b[1;33m(\u001b[0m\u001b[0msum\u001b[0m\u001b[1;33m(\u001b[0m\u001b[0mBox_new_std\u001b[0m \u001b[1;33m-\u001b[0m \u001b[0mBox_new_njit\u001b[0m\u001b[1;33m)\u001b[0m\u001b[1;33m)\u001b[0m\u001b[1;33m)\u001b[0m\u001b[1;33m\u001b[0m\u001b[1;33m\u001b[0m\u001b[0m\n\u001b[0m\u001b[0;32m      3\u001b[0m \u001b[0mprint\u001b[0m\u001b[1;33m(\u001b[0m\u001b[1;34m\"STD Type: \"\u001b[0m\u001b[1;33m,\u001b[0m \u001b[0mtype\u001b[0m\u001b[1;33m(\u001b[0m\u001b[0mBox_new_std\u001b[0m\u001b[1;33m)\u001b[0m\u001b[1;33m)\u001b[0m\u001b[1;33m\u001b[0m\u001b[1;33m\u001b[0m\u001b[0m\n\u001b[0;32m      4\u001b[0m \u001b[0mprint\u001b[0m\u001b[1;33m(\u001b[0m\u001b[1;34m\"NJIT Type: \"\u001b[0m\u001b[1;33m,\u001b[0m \u001b[0mtype\u001b[0m\u001b[1;33m(\u001b[0m\u001b[0mBox_new_njit\u001b[0m\u001b[1;33m)\u001b[0m\u001b[1;33m)\u001b[0m\u001b[1;33m\u001b[0m\u001b[1;33m\u001b[0m\u001b[0m\n\u001b[0;32m      5\u001b[0m \u001b[1;33m\u001b[0m\u001b[0m\n",
      "\u001b[1;31mValueError\u001b[0m: operands could not be broadcast together with shapes (277,8) (437,8) "
     ]
    }
   ],
   "source": [
    "print(\"----- Box_new -----\")\n",
    "print(sum(sum(Box_new_std - Box_new_njit)))\n",
    "print(\"STD Type: \", type(Box_new_std))\n",
    "print(\"NJIT Type: \", type(Box_new_njit))\n",
    "\n",
    "print(\"----- Box_miu_new -----\")\n",
    "print(sum(sum(BOX_miu_new_std - BOX_miu_new_njit)))\n",
    "print(\"STD Type: \", type(BOX_miu_new_std))\n",
    "print(\"NJIT Type: \", type(BOX_miu_new_njit))\n",
    "\n",
    "print(\"----- Box_S_new -----\")\n",
    "print(sum(BOX_S_new_std - BOX_S_new_njit))\n",
    "print(\"STD Type: \", type(BOX_S_new_std))\n",
    "print(\"NJIT Type: \", type(BOX_S_new_njit))\n",
    "\n",
    "print(\"----- NB_new -----\")\n",
    "print(NB_new_std - NB_new_njit)\n",
    "print(\"STD Type: \", type(NB_new_std))\n",
    "print(\"NJIT Type: \", type(NB_new_njit))"
   ]
  },
  {
   "cell_type": "code",
   "execution_count": null,
   "metadata": {},
   "outputs": [],
   "source": []
  }
 ],
 "metadata": {
  "kernelspec": {
   "display_name": "Python 3",
   "language": "python",
   "name": "python3"
  },
  "language_info": {
   "codemirror_mode": {
    "name": "ipython",
    "version": 3
   },
   "file_extension": ".py",
   "mimetype": "text/x-python",
   "name": "python",
   "nbconvert_exporter": "python",
   "pygments_lexer": "ipython3",
   "version": "3.8.5"
  }
 },
 "nbformat": 4,
 "nbformat_minor": 4
}
