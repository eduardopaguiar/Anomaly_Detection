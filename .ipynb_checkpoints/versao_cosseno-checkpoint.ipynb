{
 "cells": [
  {
   "cell_type": "code",
   "execution_count": 1,
   "metadata": {},
   "outputs": [],
   "source": [
    "import numpy as np\n",
    "from scipy.spatial.distance import cdist\n",
    "from sklearn import datasets\n",
    "import cupy as cp"
   ]
  },
  {
   "cell_type": "markdown",
   "metadata": {},
   "source": [
    "### cdist"
   ]
  },
  {
   "cell_type": "code",
   "execution_count": 60,
   "metadata": {},
   "outputs": [],
   "source": [
    "def my_cdist_cossine(A, B, metric='euclidean'):\n",
    "    LA, WA = A.shape\n",
    "    LB, WB = B.shape\n",
    "    \n",
    "    print()\n",
    "    \n",
    "    ret_array = np.zeros((LA,LB))\n",
    "    for i in range(LA):\n",
    "        num = np.array([np.sum(A[i]*B[j]) for j in range(LB)])\n",
    "        den = np.array([np.sqrt(np.sum(A[i]*A[i])*np.sum(B[j]*B[j])) for j in range(LB)])\n",
    "        ret_array[i] = 1 - num/den\n",
    "    \n",
    "    return ret_array"
   ]
  },
  {
   "cell_type": "code",
   "execution_count": 61,
   "metadata": {},
   "outputs": [],
   "source": [
    "# Aqui eu coloquei uma matriz qlqr pra testar, ve se vc tem algo ai\n",
    "data = np.genfromtxt(\"iris.csv\", delimiter=',')\n",
    "L, W = data.shape\n",
    "\n",
    "A = data[:int(L/4)]\n",
    "B = data[int(L/4):]"
   ]
  },
  {
   "cell_type": "code",
   "execution_count": 67,
   "metadata": {},
   "outputs": [
    {
     "name": "stdout",
     "output_type": "stream",
     "text": [
      "Shape sp.cdist = (37, 113)\n",
      "Shape my.cdist = (37, 113)\n",
      "[[ True  True  True ... False  True False]\n",
      " [ True  True  True ...  True  True  True]\n",
      " [ True  True  True ...  True  True  True]\n",
      " ...\n",
      " [ True False  True ... False  True  True]\n",
      " [ True False  True ...  True False False]\n",
      " [False  True  True ... False  True False]]\n",
      "Iguais - False\n",
      "Max Value: 2.220446049250313e-16\n",
      "Min Value: -2.220446049250313e-16\n"
     ]
    }
   ],
   "source": [
    "sp_cdist = cdist(A,B,metric=\"cosine\")\n",
    "print(\"Shape sp.cdist = {}\".format(sp_cdist.shape))\n",
    "\n",
    "my_cdist = my_cdist_cossine(A,B)\n",
    "print(\"Shape my.cdist = {}\".format(my_cdist.shape))\n",
    "\n",
    "\n",
    "compare = (sp_cdist == my_cdist)\n",
    "print(compare)\n",
    "\n",
    "iguais = compare.all()\n",
    "print(\"Iguais - {}\".format(iguais))\n",
    "\n",
    "if not iguais:\n",
    "    print(\"Max Value: {}\".format((my_cdist-sp_cdist).max()))\n",
    "    print(\"Min Value: {}\".format((my_cdist-sp_cdist).min()))"
   ]
  },
  {
   "cell_type": "markdown",
   "metadata": {},
   "source": [
    "### pdist"
   ]
  },
  {
   "cell_type": "code",
   "execution_count": 75,
   "metadata": {},
   "outputs": [],
   "source": [
    "def my_pdist_cossine(A):\n",
    "    L, _ = A.shape\n",
    "    \n",
    "    for i in range(L):\n",
    "        num = np.array([np.sum(A[i]*A[j]) for j in range(i+1, L)])\n",
    "        den = np.array([np.sqrt(np.sum(A[i]*A[i])*np.sum(A[j]*A[j])) for j in range(i+1, L)])\n",
    "        if i == 0:\n",
    "            ret_array = 1 - num/den\n",
    "        elif i == L-1:\n",
    "            break\n",
    "        else:\n",
    "            ret_array = np.concatenate((ret_array, 1 - num/den))\n",
    "    \n",
    "    return ret_array"
   ]
  },
  {
   "cell_type": "code",
   "execution_count": 76,
   "metadata": {},
   "outputs": [
    {
     "name": "stdout",
     "output_type": "stream",
     "text": [
      "Shape sp.pdist = (11175,)\n",
      "Shape my.pdist = (11175,)\n",
      "[ True  True  True ...  True  True  True]\n",
      "Iguais - False\n",
      "Max Value: 2.220446049250313e-16\n",
      "Min Value: -3.3306690738754696e-16\n"
     ]
    }
   ],
   "source": [
    "sp_pdist = pdist(data,metric=\"cosine\")\n",
    "print(\"Shape sp.pdist = {}\".format(sp_pdist.shape))\n",
    "\n",
    "my_pdist = my_pdist_cossine(data)\n",
    "print(\"Shape my.pdist = {}\".format(my_pdist.shape))\n",
    "\n",
    "\n",
    "compare = (sp_pdist == my_pdist)\n",
    "print(compare)\n",
    "\n",
    "iguais = compare.all()\n",
    "print(\"Iguais - {}\".format(iguais))\n",
    "\n",
    "if not iguais:\n",
    "    print(\"Max Value: {}\".format((my_pdist-sp_pdist).max()))\n",
    "    print(\"Min Value: {}\".format((my_pdist-sp_pdist).min()))"
   ]
  },
  {
   "cell_type": "markdown",
   "metadata": {},
   "source": [
    "### squareform"
   ]
  },
  {
   "cell_type": "code",
   "execution_count": 77,
   "metadata": {},
   "outputs": [],
   "source": [
    "def my_pdist_squareform_cossine(A):\n",
    "    L, _ = A.shape\n",
    "    \n",
    "    ret_array = np.zeros((L,L))\n",
    "    \n",
    "    for i in range(L):\n",
    "        num = np.array([np.sum(A[i]*A[j]) for j in range(i+1, L)])\n",
    "        den = np.array([np.sqrt(np.sum(A[i]*A[i])*np.sum(A[j]*A[j])) for j in range(i+1, L)])\n",
    "        if i == L-1:\n",
    "            break\n",
    "        else:\n",
    "            ret_array[i, (i+1):L] = 1 - num/den\n",
    "            ret_array[(i+1):L, i] = 1 - num/den\n",
    "            \n",
    "    return ret_array"
   ]
  },
  {
   "cell_type": "code",
   "execution_count": 78,
   "metadata": {},
   "outputs": [
    {
     "name": "stdout",
     "output_type": "stream",
     "text": [
      "Shape sp.squareform = (150, 150)\n",
      "Shape my.squareform = (150, 150)\n",
      "[[ True  True  True ... False  True False]\n",
      " [ True  True  True ...  True  True  True]\n",
      " [ True  True  True ...  True  True  True]\n",
      " ...\n",
      " [False  True  True ...  True  True  True]\n",
      " [ True  True  True ...  True  True  True]\n",
      " [False  True  True ...  True  True  True]]\n",
      "Iguais - False\n",
      "Max Value: 2.220446049250313e-16\n",
      "Min Value: -3.3306690738754696e-16\n"
     ]
    }
   ],
   "source": [
    "sp_squareform = squareform(pdist(data,metric=\"cosine\"))\n",
    "print(\"Shape sp.squareform = {}\".format(sp_squareform.shape))\n",
    "\n",
    "my_squareform = my_pdist_squareform_cossine(data)\n",
    "print(\"Shape my.squareform = {}\".format(my_squareform.shape))\n",
    "\n",
    "\n",
    "compare = (sp_squareform == my_squareform)\n",
    "print(compare)\n",
    "\n",
    "iguais = compare.all()\n",
    "print(\"Iguais - {}\".format(iguais))\n",
    "\n",
    "if not iguais:\n",
    "    print(\"Max Value: {}\".format((my_squareform-sp_squareform).max()))\n",
    "    print(\"Min Value: {}\".format((my_squareform-sp_squareform).min()))"
   ]
  },
  {
   "cell_type": "code",
   "execution_count": null,
   "metadata": {},
   "outputs": [],
   "source": []
  }
 ],
 "metadata": {
  "kernelspec": {
   "display_name": "Python 3",
   "language": "python",
   "name": "python3"
  },
  "language_info": {
   "codemirror_mode": {
    "name": "ipython",
    "version": 3
   },
   "file_extension": ".py",
   "mimetype": "text/x-python",
   "name": "python",
   "nbconvert_exporter": "python",
   "pygments_lexer": "ipython3",
   "version": "3.7.6"
  }
 },
 "nbformat": 4,
 "nbformat_minor": 2
}
