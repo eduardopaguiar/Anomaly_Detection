{
 "cells": [
  {
   "cell_type": "code",
   "execution_count": 1,
   "metadata": {},
   "outputs": [],
   "source": [
    "from scipy.spatial.distance import pdist, cdist, squareform\n",
    "import math\n",
    "import pandas as pd\n",
    "import numpy as np\n",
    "from numba import cuda\n",
    "from numba import jit\n",
    "from sklearn import datasets\n",
    "import cupy as cp"
   ]
  },
  {
   "cell_type": "code",
   "execution_count": 2,
   "metadata": {},
   "outputs": [
    {
     "name": "stdout",
     "output_type": "stream",
     "text": [
      "[[5 1 1]\n",
      " [5 2 2]\n",
      " [5 3 3]]\n",
      "(3, 3)\n"
     ]
    }
   ],
   "source": [
    "a = np.array([[1, 1], [2, 2], [3, 3]])\n",
    "b = np.array([[5,5,5]]).reshape(-1,1)\n",
    "\n",
    "a = cp.asarray(a)\n",
    "b = cp.asarray(b)\n",
    "c = cp.concatenate((b,a), axis = 1)\n",
    "c = cp.asnumpy(c)\n",
    "\n",
    "print(c)\n",
    "print(c.shape)"
   ]
  },
  {
   "cell_type": "code",
   "execution_count": 3,
   "metadata": {},
   "outputs": [
    {
     "name": "stdout",
     "output_type": "stream",
     "text": [
      "[[5 1 1]\n",
      " [5 2 2]\n",
      " [5 3 3]]\n"
     ]
    }
   ],
   "source": [
    "d = np.concatenate((b,a), axis = 1)\n",
    "print(d)"
   ]
  },
  {
   "cell_type": "code",
   "execution_count": 4,
   "metadata": {},
   "outputs": [],
   "source": [
    "def argwhere(data):\n",
    "    aux1 = cp.nonzero(data)\n",
    "    aux2 = aux1[0].reshape(-1,1)\n",
    "    \n",
    "    for i in range (1,len(aux1)):\n",
    "        aux2 = cp.concatenate((aux1[i].reshape(-1,1),aux2), axis = 1)\n",
    "    \n",
    "    return aux2"
   ]
  },
  {
   "cell_type": "code",
   "execution_count": 5,
   "metadata": {},
   "outputs": [
    {
     "name": "stdout",
     "output_type": "stream",
     "text": [
      "[[1 2 3]\n",
      " [4 5 6]\n",
      " [4 5 6]\n",
      " [4 5 6]]\n",
      "[[1 2 3]\n",
      " [4 5 6]\n",
      " [4 5 6]\n",
      " [4 5 6]]\n"
     ]
    }
   ],
   "source": [
    "x = np.array([[1,2,3],[4,5,6],[4,5,6],[4,5,6]])\n",
    "print(x)\n",
    "\n",
    "z = cp.asarray(x)\n",
    "print(z)"
   ]
  },
  {
   "cell_type": "code",
   "execution_count": 6,
   "metadata": {},
   "outputs": [
    {
     "name": "stdout",
     "output_type": "stream",
     "text": [
      "[[0 0]\n",
      " [0 1]\n",
      " [0 2]\n",
      " [1 0]\n",
      " [1 1]\n",
      " [1 2]\n",
      " [2 0]\n",
      " [2 1]\n",
      " [2 2]\n",
      " [3 0]\n",
      " [3 1]\n",
      " [3 2]]\n",
      "[[0 0]\n",
      " [1 0]\n",
      " [2 0]\n",
      " [0 1]\n",
      " [1 1]\n",
      " [2 1]\n",
      " [0 2]\n",
      " [1 2]\n",
      " [2 2]\n",
      " [0 3]\n",
      " [1 3]\n",
      " [2 3]]\n"
     ]
    }
   ],
   "source": [
    "a = np.argwhere(x)\n",
    "print(a)\n",
    "\n",
    "a = argwhere(z)\n",
    "print(a)"
   ]
  },
  {
   "cell_type": "code",
   "execution_count": 7,
   "metadata": {},
   "outputs": [
    {
     "name": "stdout",
     "output_type": "stream",
     "text": [
      "[]\n",
      "[]\n"
     ]
    }
   ],
   "source": [
    "b = np.argwhere(np.isnan(x))\n",
    "print(b)\n",
    "\n",
    "b = argwhere(cp.isnan(z))\n",
    "print(b)"
   ]
  },
  {
   "cell_type": "code",
   "execution_count": 9,
   "metadata": {},
   "outputs": [],
   "source": [
    "def pi_calculator(Uniquesample):\n",
    "    Xnorm = np.matrix(np.sqrt(np.sum(np.power(Uniquesample,2),axis=1))).T\n",
    "    aux2 = Xnorm\n",
    "    for i in range(W-1):\n",
    "        aux2 = np.insert(aux2,0,Xnorm.T,axis=1)\n",
    "    print(aux2.shape)\n",
    "    Uniquesample1 = Uniquesample / aux2\n",
    "    print(Uniquesample1.shape)\n",
    "    AA2 = np.mean(Uniquesample1,0)\n",
    "    X2 = 1\n",
    "    DT2 = X2 - np.sum(np.power(AA2,2))\n",
    "    aux = []\n",
    "    for i in range(UN): aux.append(AA2)\n",
    "    print(np.shape(aux))\n",
    "    aux2 = [Uniquesample1[i]-aux[i] for i in range(UN)]\n",
    "\n",
    "    print(aux2)\n",
    "\n",
    "    a = np.power(aux2,2)\n",
    "    \n",
    "    b = np.sum(a,axis=1)\n",
    "    print(b)\n",
    "    print(b.shape)\n",
    "    c = np.sum(b,axis=1)\n",
    "    print(c.shape)\n",
    "    uspi = c+DT2\n",
    "    \n",
    "    return uspi"
   ]
  },
  {
   "cell_type": "code",
   "execution_count": null,
   "metadata": {},
   "outputs": [],
   "source": [
    "b = pi_calculator"
   ]
  },
  {
   "cell_type": "code",
   "execution_count": 10,
   "metadata": {},
   "outputs": [],
   "source": [
    "def cp_pi_calculator(Uniquesample):\n",
    "    UN, W = Uniquesample.shape\n",
    "\n",
    "    #Xnorm = cp.matrix(cp.sqrt(cp.sum(cp.power(Uniquesample,2),axis=1))).T\n",
    "    Xnorm = cp.sqrt(cp.sum(cp.power(Uniquesample,2),axis=1)).reshape(-1,1).T\n",
    "    aux2 = Xnorm.T\n",
    "\n",
    "    for i in range(W-1):\n",
    "        aux2 = cp.concatenate((Xnorm.T,aux2),axis=1)\n",
    "        \n",
    "    #aux2 = cp.insert(aux2,0,Xnorm.T,axis=1)\n",
    "    Uniquesample1 = Uniquesample / aux2\n",
    "    AA2 = cp.mean(Uniquesample1,0)\n",
    "    X2 = 1\n",
    "    DT2 = X2 - cp.sum(cp.power(AA2,2))\n",
    "    aux = []\n",
    "    aux2 = cp.empty((Uniquesample1.shape))\n",
    "    for i in range(UN): aux.append(AA2)\n",
    "    print(aux)\n",
    "    for i in range(UN): aux2 [i] = Uniquesample[i]-aux[i]\n",
    "    a = cp.power(aux2,2)\n",
    "    print(a.shape)\n",
    "    b = cp.sum(a,axis=1)\n",
    "    print(b.shape)\n",
    "    c = cp.sum(b,axis=1)\n",
    "    print(c.shape)\n",
    "    uspi = c+DT2\n",
    "        \n",
    "    return uspi"
   ]
  },
  {
   "cell_type": "code",
   "execution_count": null,
   "metadata": {},
   "outputs": [],
   "source": []
  }
 ],
 "metadata": {
  "kernelspec": {
   "display_name": "Python 3",
   "language": "python",
   "name": "python3"
  },
  "language_info": {
   "codemirror_mode": {
    "name": "ipython",
    "version": 3
   },
   "file_extension": ".py",
   "mimetype": "text/x-python",
   "name": "python",
   "nbconvert_exporter": "python",
   "pygments_lexer": "ipython3",
   "version": "3.7.6"
  }
 },
 "nbformat": 4,
 "nbformat_minor": 4
}
