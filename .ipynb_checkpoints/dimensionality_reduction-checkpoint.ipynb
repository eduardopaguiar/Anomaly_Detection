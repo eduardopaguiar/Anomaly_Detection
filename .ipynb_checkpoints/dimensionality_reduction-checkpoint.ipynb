{
 "cells": [
  {
   "cell_type": "code",
   "execution_count": 36,
   "id": "dedicated-dinner",
   "metadata": {},
   "outputs": [],
   "source": [
    "import numpy as np\n",
    "import matplotlib.pyplot as plt\n",
    "from sklearn.decomposition import PCA, KernelPCA\n",
    "from sklearn.datasets import make_circles\n",
    "import data_manipulation as dm"
   ]
  },
  {
   "cell_type": "markdown",
   "id": "adjacent-earthquake",
   "metadata": {},
   "source": [
    "Preparing toy data-set"
   ]
  },
  {
   "cell_type": "code",
   "execution_count": 28,
   "id": "binary-trademark",
   "metadata": {},
   "outputs": [
    {
     "name": "stdout",
     "output_type": "stream",
     "text": [
      "     .Background Loaded...\n",
      "     .Signal Loaded...\n"
     ]
    }
   ],
   "source": [
    "b_name='Input_Background_1.csv'\n",
    "\n",
    "background = np.genfromtxt(b_name, delimiter=',')\n",
    "background = background[1:,:]\n",
    "print(\"     .Background Loaded...\")\n",
    "\n",
    "s_name='Input_Signal_1.csv'\n",
    "\n",
    "signal = np.genfromtxt(s_name, delimiter=',')\n",
    "signal = signal[1:,:]\n",
    "print(\"     .Signal Loaded...\")"
   ]
  },
  {
   "cell_type": "code",
   "execution_count": 37,
   "id": "julian-apartment",
   "metadata": {},
   "outputs": [],
   "source": [
    "background, _ = dm.divide(background, 100, 5000)\n",
    "signal, _ = dm.divide(signal, 100, 5000)"
   ]
  },
  {
   "cell_type": "code",
   "execution_count": 38,
   "id": "ceramic-sullivan",
   "metadata": {},
   "outputs": [],
   "source": [
    "X = np.vstack((background,signal))\n",
    "y = []\n",
    "for i in range(len(background)):y.append(0)\n",
    "for i in range(len(signal)):y.append(1)    "
   ]
  },
  {
   "cell_type": "code",
   "execution_count": null,
   "id": "historic-ethernet",
   "metadata": {},
   "outputs": [],
   "source": [
    "# training PCA for comparison \n",
    "pca = PCA(n_components=2)\n",
    "X_pca = pca.fit_transform(X)\n",
    "\n",
    "# definin loop structure for kernels\n",
    "kernels = ['linear', 'poly', 'rbf', 'cosine']#'sigmoid', 'precomputed'\n",
    "\n",
    "\n",
    "plt.figure(figsize=(int(len(kernels)*5)+2,5))\n",
    "plt.subplot(1, int(len(kernels))+2, 1, aspect='equal')\n",
    "plt.title(\"Original space\")\n",
    "reds = y == 0\n",
    "blues = y == 1\n",
    "\n",
    "plt.scatter(X[reds, 0], X[reds, 1], c=\"red\",\n",
    "            s=20, edgecolor='k')\n",
    "plt.scatter(X[blues, 0], X[blues, 1], c=\"blue\",\n",
    "            s=20, edgecolor='k')\n",
    "plt.xlabel(\"$x_1$\")\n",
    "plt.ylabel(\"$x_2$\")\n",
    "\n",
    "\n",
    "for i,knl in enumerate(kernels):\n",
    "    \n",
    "    if knl in ['rbf', 'poly']:\n",
    "        kpca = KernelPCA(kernel=knl, gamma=10, n_components=2)\n",
    "    else:\n",
    "        kpca = KernelPCA(kernel=knl, n_components=2)\n",
    "        \n",
    "    X_kpca = kpca.fit_transform(X)\n",
    "\n",
    "    # Plot result\n",
    "\n",
    "    plt.subplot(1, int(len(kernels))+2, i+2, aspect='equal')\n",
    "    plt.scatter(X_kpca[reds, 0], X_kpca[reds, 1], c=\"red\",\n",
    "                s=20, edgecolor='k')\n",
    "    plt.scatter(X_kpca[blues, 0], X_kpca[blues, 1], c=\"blue\",\n",
    "                s=20, edgecolor='k')\n",
    "    plt.title(\"Projection by KPCA, \" + knl)\n",
    "    plt.xlabel(r\"1st principal component in space induced by $\\phi$\")\n",
    "    plt.ylabel(\"2nd component\")\n",
    "\n",
    "plt.tight_layout()\n",
    "plt.show()"
   ]
  },
  {
   "cell_type": "code",
   "execution_count": null,
   "id": "reduced-prevention",
   "metadata": {},
   "outputs": [],
   "source": []
  }
 ],
 "metadata": {
  "kernelspec": {
   "display_name": "Python 3",
   "language": "python",
   "name": "python3"
  },
  "language_info": {
   "codemirror_mode": {
    "name": "ipython",
    "version": 3
   },
   "file_extension": ".py",
   "mimetype": "text/x-python",
   "name": "python",
   "nbconvert_exporter": "python",
   "pygments_lexer": "ipython3",
   "version": "3.7.6"
  }
 },
 "nbformat": 4,
 "nbformat_minor": 5
}
