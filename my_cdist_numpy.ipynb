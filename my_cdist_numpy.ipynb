{
 "cells": [
  {
   "cell_type": "code",
   "execution_count": 1,
   "metadata": {},
   "outputs": [],
   "source": [
    "import numpy as np\n",
    "\n",
    "from scipy.spatial.distance import cdist"
   ]
  },
  {
   "cell_type": "code",
   "execution_count": 14,
   "metadata": {},
   "outputs": [],
   "source": [
    "def my_cdist_func(A, B):\n",
    "    LA, WA = A.shape\n",
    "    LB, WB = B.shape\n",
    "    \n",
    "    ret_array = np.zeros((LA,LB))\n",
    "    for i in range(LA):\n",
    "        aux = np.array([A[i]-B[j] for j in range(LB)])\n",
    "        ret_array[i] = np.sqrt(np.sum(np.power(aux,2),axis=1))\n",
    "    \n",
    "    return ret_array"
   ]
  },
  {
   "cell_type": "code",
   "execution_count": 5,
   "metadata": {},
   "outputs": [],
   "source": [
    "# Aqui eu coloquei uma matriz qlqr pra testar, ve se vc tem algo ai\n",
    "data = np.genfromtxt(\"iris.csv\", delimiter=',')\n",
    "L, W = data.shape\n",
    "\n",
    "A = data[:int(L/2)]\n",
    "B = data[int(L/2):]"
   ]
  },
  {
   "cell_type": "code",
   "execution_count": 6,
   "metadata": {},
   "outputs": [],
   "source": [
    "sp_cdist = cdist(A,B)"
   ]
  },
  {
   "cell_type": "code",
   "execution_count": 7,
   "metadata": {},
   "outputs": [
    {
     "data": {
      "text/plain": [
       "(75, 75)"
      ]
     },
     "execution_count": 7,
     "metadata": {},
     "output_type": "execute_result"
    }
   ],
   "source": [
    "sp_cdist.shape"
   ]
  },
  {
   "cell_type": "code",
   "execution_count": 15,
   "metadata": {},
   "outputs": [],
   "source": [
    "my_cdist = my_cdist_func(A,B)"
   ]
  },
  {
   "cell_type": "code",
   "execution_count": 16,
   "metadata": {},
   "outputs": [
    {
     "data": {
      "text/plain": [
       "(75, 75)"
      ]
     },
     "execution_count": 16,
     "metadata": {},
     "output_type": "execute_result"
    }
   ],
   "source": [
    "my_cdist.shape"
   ]
  },
  {
   "cell_type": "code",
   "execution_count": 17,
   "metadata": {},
   "outputs": [
    {
     "data": {
      "text/plain": [
       "array([[3.59722115, 4.04722127, 4.24499706, ..., 4.45982062, 4.65080638,\n",
       "        4.14004831],\n",
       "       [3.65102725, 4.08044115, 4.29534632, ..., 4.49888875, 4.71805044,\n",
       "        4.15331193],\n",
       "       [3.8340579 , 4.27317212, 4.46989933, ..., 4.66154481, 4.84871117,\n",
       "        4.29883705],\n",
       "       ...,\n",
       "       [0.77459667, 0.6       , 0.678233  , ..., 0.79372539, 1.30766968,\n",
       "        0.73484692],\n",
       "       [0.64807407, 0.73484692, 0.86023253, ..., 1.04403065, 1.43874946,\n",
       "        0.77459667],\n",
       "       [0.26457513, 0.65574385, 0.8660254 , ..., 1.14891253, 1.58113883,\n",
       "        1.07238053]])"
      ]
     },
     "execution_count": 17,
     "metadata": {},
     "output_type": "execute_result"
    }
   ],
   "source": [
    "sp_cdist"
   ]
  },
  {
   "cell_type": "code",
   "execution_count": 18,
   "metadata": {},
   "outputs": [
    {
     "data": {
      "text/plain": [
       "array([[3.59722115, 4.04722127, 4.24499706, ..., 4.45982062, 4.65080638,\n",
       "        4.14004831],\n",
       "       [3.65102725, 4.08044115, 4.29534632, ..., 4.49888875, 4.71805044,\n",
       "        4.15331193],\n",
       "       [3.8340579 , 4.27317212, 4.46989933, ..., 4.66154481, 4.84871117,\n",
       "        4.29883705],\n",
       "       ...,\n",
       "       [0.77459667, 0.6       , 0.678233  , ..., 0.79372539, 1.30766968,\n",
       "        0.73484692],\n",
       "       [0.64807407, 0.73484692, 0.86023253, ..., 1.04403065, 1.43874946,\n",
       "        0.77459667],\n",
       "       [0.26457513, 0.65574385, 0.8660254 , ..., 1.14891253, 1.58113883,\n",
       "        1.07238053]])"
      ]
     },
     "execution_count": 18,
     "metadata": {},
     "output_type": "execute_result"
    }
   ],
   "source": [
    "my_cdist"
   ]
  },
  {
   "cell_type": "code",
   "execution_count": 25,
   "metadata": {},
   "outputs": [
    {
     "data": {
      "text/plain": [
       "array([[ True,  True,  True, ...,  True,  True,  True],\n",
       "       [ True,  True,  True, ...,  True,  True,  True],\n",
       "       [ True,  True,  True, ...,  True,  True,  True],\n",
       "       ...,\n",
       "       [ True,  True,  True, ...,  True,  True,  True],\n",
       "       [ True,  True,  True, ...,  True,  True,  True],\n",
       "       [ True,  True,  True, ...,  True,  True,  True]])"
      ]
     },
     "execution_count": 25,
     "metadata": {},
     "output_type": "execute_result"
    }
   ],
   "source": [
    "compare = (sp_cdist == my_cdist)\n",
    "\n",
    "compare"
   ]
  },
  {
   "cell_type": "code",
   "execution_count": 26,
   "metadata": {},
   "outputs": [
    {
     "data": {
      "text/plain": [
       "True"
      ]
     },
     "execution_count": 26,
     "metadata": {},
     "output_type": "execute_result"
    }
   ],
   "source": [
    "compare.all()"
   ]
  }
 ],
 "metadata": {
  "kernelspec": {
   "display_name": "Python 3",
   "language": "python",
   "name": "python3"
  },
  "language_info": {
   "codemirror_mode": {
    "name": "ipython",
    "version": 3
   },
   "file_extension": ".py",
   "mimetype": "text/x-python",
   "name": "python",
   "nbconvert_exporter": "python",
   "pygments_lexer": "ipython3",
   "version": "3.8.5"
  }
 },
 "nbformat": 4,
 "nbformat_minor": 2
}
