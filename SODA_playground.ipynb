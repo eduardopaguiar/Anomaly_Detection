{
 "cells": [
  {
   "cell_type": "code",
   "execution_count": 1,
   "metadata": {},
   "outputs": [],
   "source": [
    "from scipy.spatial.distance import pdist, cdist, squareform\n",
    "import math\n",
    "import pandas as pd\n",
    "import numpy as np\n",
    "from numba import cuda\n",
    "from numba import jit\n",
    "from sklearn import datasets\n",
    "import cupy as cp"
   ]
  },
  {
   "cell_type": "code",
   "execution_count": 2,
   "metadata": {},
   "outputs": [
    {
     "name": "stdout",
     "output_type": "stream",
     "text": [
      "[[5 1 1]\n",
      " [5 2 2]\n",
      " [5 3 3]]\n",
      "(3, 3)\n"
     ]
    }
   ],
   "source": [
    "a = np.array([[1, 1], [2, 2], [3, 3]])\n",
    "b = np.array([[5,5,5]]).reshape(-1,1)\n",
    "\n",
    "a = cp.asarray(a)\n",
    "b = cp.asarray(b)\n",
    "c = cp.concatenate((b,a), axis = 1)\n",
    "c = cp.asnumpy(c)\n",
    "\n",
    "print(c)\n",
    "print(c.shape)"
   ]
  },
  {
   "cell_type": "code",
   "execution_count": 3,
   "metadata": {},
   "outputs": [
    {
     "name": "stdout",
     "output_type": "stream",
     "text": [
      "[[5 1 1]\n",
      " [5 2 2]\n",
      " [5 3 3]]\n"
     ]
    }
   ],
   "source": [
    "d = np.concatenate((b,a), axis = 1)\n",
    "print(d)"
   ]
  },
  {
   "cell_type": "code",
   "execution_count": 4,
   "metadata": {},
   "outputs": [],
   "source": [
    "def argwhere(data):\n",
    "    aux1 = cp.nonzero(data)\n",
    "    aux2 = aux1[0].reshape(-1,1)\n",
    "    \n",
    "    for i in range (1,len(aux1)):\n",
    "        aux2 = cp.concatenate((aux1[i].reshape(-1,1),aux2), axis = 1)\n",
    "    \n",
    "    return aux2"
   ]
  },
  {
   "cell_type": "code",
   "execution_count": 5,
   "metadata": {},
   "outputs": [
    {
     "name": "stdout",
     "output_type": "stream",
     "text": [
      "[[1 2 3]\n",
      " [4 5 6]\n",
      " [4 5 6]\n",
      " [4 5 6]]\n",
      "[[1 2 3]\n",
      " [4 5 6]\n",
      " [4 5 6]\n",
      " [4 5 6]]\n"
     ]
    }
   ],
   "source": [
    "x = np.array([[1,2,3],[4,5,6],[4,5,6],[4,5,6]])\n",
    "print(x)\n",
    "\n",
    "z = cp.asarray(x)\n",
    "print(z)"
   ]
  },
  {
   "cell_type": "code",
   "execution_count": 6,
   "metadata": {},
   "outputs": [
    {
     "name": "stdout",
     "output_type": "stream",
     "text": [
      "[[0 0]\n",
      " [0 1]\n",
      " [0 2]\n",
      " [1 0]\n",
      " [1 1]\n",
      " [1 2]\n",
      " [2 0]\n",
      " [2 1]\n",
      " [2 2]\n",
      " [3 0]\n",
      " [3 1]\n",
      " [3 2]]\n",
      "[[0 0]\n",
      " [1 0]\n",
      " [2 0]\n",
      " [0 1]\n",
      " [1 1]\n",
      " [2 1]\n",
      " [0 2]\n",
      " [1 2]\n",
      " [2 2]\n",
      " [0 3]\n",
      " [1 3]\n",
      " [2 3]]\n"
     ]
    }
   ],
   "source": [
    "a = np.argwhere(x)\n",
    "print(a)\n",
    "\n",
    "a = argwhere(z)\n",
    "print(a)"
   ]
  },
  {
   "cell_type": "code",
   "execution_count": 7,
   "metadata": {},
   "outputs": [
    {
     "name": "stdout",
     "output_type": "stream",
     "text": [
      "[]\n",
      "[]\n"
     ]
    }
   ],
   "source": [
    "b = np.argwhere(np.isnan(x))\n",
    "print(b)\n",
    "\n",
    "b = argwhere(cp.isnan(z))\n",
    "print(b)"
   ]
  },
  {
   "cell_type": "code",
   "execution_count": 99,
   "metadata": {},
   "outputs": [],
   "source": [
    "def cp_pi_calculator(Uniquesample):\n",
    "    UN, W = Uniquesample.shape\n",
    "    #Xnorm = cp.matrix(cp.sqrt(cp.sum(cp.power(Uniquesample,2),axis=1))).T\n",
    "    Xnorm = cp.sqrt(cp.sum(cp.power(Uniquesample,2),axis=1)).reshape(-1,1).T\n",
    "    aux2 = Xnorm.T\n",
    "    for i in range(W-1):\n",
    "        aux2 = cp.concatenate((Xnorm.T,aux2),axis=1)\n",
    "        \n",
    "    #aux2 = cp.insert(aux2,0,Xnorm.T,axis=1)\n",
    "    Uniquesample1 = Uniquesample / aux2\n",
    "    AA2 = cp.mean(Uniquesample1,0).reshape(1,-1)\n",
    "    X2 = 1\n",
    "    DT2 = X2 - cp.sum(cp.power(AA2,2))\n",
    "    aux = []\n",
    "    aux2 = cp.empty((UN,1,W))\n",
    "    for i in range(UN): aux.append(AA2)\n",
    "    \n",
    "    for i in range(UN): aux2 [i] = Uniquesample1[i]-aux[i]\n",
    "    \n",
    "    a = cp.power(aux2,2)\n",
    "    b = cp.sum(a,axis=1)\n",
    "    c = cp.sum(b,axis=1)\n",
    "    uspi = c+DT2\n",
    "        \n",
    "    return uspi"
   ]
  },
  {
   "cell_type": "code",
   "execution_count": 100,
   "metadata": {},
   "outputs": [
    {
     "name": "stdout",
     "output_type": "stream",
     "text": [
      "[0.03805223 0.01268408 0.01268408 0.01268408]\n"
     ]
    }
   ],
   "source": [
    "c = cp_pi_calculator(z)\n",
    "\n",
    "print(c)"
   ]
  },
  {
   "cell_type": "code",
   "execution_count": 101,
   "metadata": {},
   "outputs": [],
   "source": [
    "def my_cdist_func(A, B):\n",
    "    LA, WA = A.shape\n",
    "    LB, WB = B.shape\n",
    "    \n",
    "    ret_array = cp.zeros((LA,LB))\n",
    "    for i in range(LA):\n",
    "        aux = cp.asarray([A[i]-B[j] for j in range(LB)])\n",
    "        ret_array[i] = cp.sqrt(cp.sum(cp.power(aux,2),axis=1))\n",
    "    \n",
    "    return ret_array"
   ]
  },
  {
   "cell_type": "code",
   "execution_count": 2,
   "metadata": {},
   "outputs": [],
   "source": [
    "import numpy as np"
   ]
  },
  {
   "cell_type": "code",
   "execution_count": 2,
   "metadata": {},
   "outputs": [
    {
     "output_type": "execute_result",
     "data": {
      "text/plain": [
       "array([1, 2, 3, 4, 5])"
      ]
     },
     "metadata": {},
     "execution_count": 2
    }
   ],
   "source": [
    "a = cp.asarray([1,2,3,4,5])\n",
    "\n",
    "a"
   ]
  },
  {
   "cell_type": "code",
   "execution_count": 3,
   "metadata": {},
   "outputs": [
    {
     "output_type": "execute_result",
     "data": {
      "text/plain": [
       "array([[1, 2, 3, 4, 5],\n",
       "       [6, 7, 8, 9, 0]])"
      ]
     },
     "metadata": {},
     "execution_count": 3
    }
   ],
   "source": [
    "b = cp.asarray([[1,2,3,4,5],\n",
    "              [6,7,8,9,0]])\n",
    "\n",
    "b"
   ]
  },
  {
   "cell_type": "code",
   "execution_count": 4,
   "metadata": {},
   "outputs": [
    {
     "output_type": "execute_result",
     "data": {
      "text/plain": [
       "array([[1, 2, 3, 4, 5],\n",
       "       [1, 2, 3, 4, 5],\n",
       "       [6, 7, 8, 9, 0]])"
      ]
     },
     "metadata": {},
     "execution_count": 4
    }
   ],
   "source": [
    "c = cp.vstack((a,b))\n",
    "\n",
    "c"
   ]
  },
  {
   "cell_type": "code",
   "execution_count": 7,
   "metadata": {},
   "outputs": [
    {
     "output_type": "execute_result",
     "data": {
      "text/plain": [
       "6"
      ]
     },
     "metadata": {},
     "execution_count": 7
    }
   ],
   "source": [
    "cp.amax(a) + 1"
   ]
  },
  {
   "cell_type": "code",
   "execution_count": null,
   "metadata": {},
   "outputs": [],
   "source": []
  }
 ],
 "metadata": {
  "kernelspec": {
   "display_name": "Python 3",
   "language": "python",
   "name": "python3"
  },
  "language_info": {
   "codemirror_mode": {
    "name": "ipython",
    "version": 3
   },
   "file_extension": ".py",
   "mimetype": "text/x-python",
   "name": "python",
   "nbconvert_exporter": "python",
   "pygments_lexer": "ipython3",
   "version": "3.8.5-final"
  }
 },
 "nbformat": 4,
 "nbformat_minor": 4
}