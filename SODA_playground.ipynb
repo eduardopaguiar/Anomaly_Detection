{
 "cells": [
  {
   "cell_type": "code",
   "execution_count": 2,
   "metadata": {},
   "outputs": [],
   "source": [
    "from scipy.spatial.distance import pdist, cdist, squareform\n",
    "import math\n",
    "import pandas as pd\n",
    "import numpy as np\n",
    "from numba import cuda\n",
    "from numba import jit\n",
    "from sklearn import datasets\n",
    "import cupy as cp"
   ]
  },
  {
   "cell_type": "code",
   "execution_count": 40,
   "metadata": {},
   "outputs": [
    {
     "name": "stdout",
     "output_type": "stream",
     "text": [
      "[[1 1]\n",
      " [2 2]\n",
      " [3 3]]\n",
      "(3, 1)\n"
     ]
    }
   ],
   "source": [
    "a = np.array([[1, 1], [2, 2], [3, 3]])\n",
    "b = np.array([[5,5,5]]).reshape(-1,1)\n",
    "\n",
    "a = cp.asarray(a)\n",
    "b = cp.asarray(b)\n",
    "c = cp.concatenate((b,a), axis = 1)\n",
    "c = cp.asnumpy(c)\n",
    "\n",
    "print(c)\n",
    "print(c.shape)"
   ]
  },
  {
   "cell_type": "code",
   "execution_count": 43,
   "metadata": {},
   "outputs": [
    {
     "name": "stdout",
     "output_type": "stream",
     "text": [
      "[[5 1 1]\n",
      " [5 2 2]\n",
      " [5 3 3]]\n"
     ]
    }
   ],
   "source": [
    "d = np.concatenate((b,a), axis = 1)\n",
    "print(d)"
   ]
  },
  {
   "cell_type": "code",
   "execution_count": 108,
   "metadata": {},
   "outputs": [],
   "source": [
    "def argwhere(data):\n",
    "    aux1 = cp.nonzero(data)\n",
    "    aux2 = aux1[0].reshape(-1,1)\n",
    "    \n",
    "    for i in range (1,len(aux1)):\n",
    "        aux2 = cp.concatenate((aux1[i].reshape(-1,1),aux2), axis = 1)\n",
    "    \n",
    "    return aux2"
   ]
  },
  {
   "cell_type": "code",
   "execution_count": 246,
   "metadata": {},
   "outputs": [
    {
     "name": "stdout",
     "output_type": "stream",
     "text": [
      "[[1 2 3]\n",
      " [4 5 6]\n",
      " [4 5 6]\n",
      " [4 5 6]]\n",
      "[[1 2 3]\n",
      " [4 5 6]\n",
      " [4 5 6]\n",
      " [4 5 6]]\n"
     ]
    }
   ],
   "source": [
    "x = np.array([[1,2,3],[4,5,6],[4,5,6],[4,5,6]])\n",
    "print(x)\n",
    "\n",
    "z = cp.asarray(x)\n",
    "print(z)"
   ]
  },
  {
   "cell_type": "code",
   "execution_count": 247,
   "metadata": {},
   "outputs": [
    {
     "name": "stdout",
     "output_type": "stream",
     "text": [
      "[[0 0]\n",
      " [0 1]\n",
      " [0 2]\n",
      " [1 0]\n",
      " [1 1]\n",
      " [1 2]\n",
      " [2 0]\n",
      " [2 1]\n",
      " [2 2]\n",
      " [3 0]\n",
      " [3 1]\n",
      " [3 2]]\n",
      "[[0 0]\n",
      " [1 0]\n",
      " [2 0]\n",
      " [0 1]\n",
      " [1 1]\n",
      " [2 1]\n",
      " [0 2]\n",
      " [1 2]\n",
      " [2 2]\n",
      " [0 3]\n",
      " [1 3]\n",
      " [2 3]]\n"
     ]
    }
   ],
   "source": [
    "a = np.argwhere(x)\n",
    "print(a)\n",
    "\n",
    "a = argwhere(z)\n",
    "print(a)"
   ]
  },
  {
   "cell_type": "code",
   "execution_count": 248,
   "metadata": {},
   "outputs": [
    {
     "name": "stdout",
     "output_type": "stream",
     "text": [
      "[]\n",
      "[]\n"
     ]
    }
   ],
   "source": [
    "b = np.argwhere(np.isnan(x))\n",
    "print(b)\n",
    "\n",
    "b = argwhere(cp.isnan(z))\n",
    "print(b)"
   ]
  },
  {
   "cell_type": "code",
   "execution_count": 23,
   "metadata": {},
   "outputs": [
    {
     "name": "stdout",
     "output_type": "stream",
     "text": [
      "(1, 8)\n",
      "[[0.43532162 0.29205007 0.47768188 0.19451897 0.38094426 0.29656143\n",
      "  0.07485497 0.46958893]]\n",
      "__________________________________________________\n",
      "(1, 8)\n",
      "[[0.3167086  0.15618952 0.48455209 0.21050753 0.26273079 0.17950667\n",
      "  0.33111275 0.5076309 ]]\n",
      "__________________________________________________\n",
      "[[ 0.11861302  0.13586055 -0.00687021 -0.01598857  0.11821346  0.11705476\n",
      "  -0.25625778 -0.03804197]]\n",
      "(1, 1, 8)\n",
      "[matrix([[ 0.11861302,  0.13586055, -0.00687021, -0.01598857,  0.11821346,\n",
      "          0.11705476, -0.25625778, -0.03804197]])]\n",
      "_.__.__.__.__.__.__.__.__.__.__.__.__.__.__.__.__.__.__.__._\n",
      "(1, 8)\n",
      "[[0.19809558 0.02032896 0.4914223  0.2264961  0.14451733 0.06245191\n",
      "  0.58737053 0.54567287]]\n",
      "__________________________________________________\n",
      "(1, 8)\n",
      "[[0.3167086  0.15618952 0.48455209 0.21050753 0.26273079 0.17950667\n",
      "  0.33111275 0.5076309 ]]\n",
      "__________________________________________________\n",
      "[[-0.11861302 -0.13586055  0.00687021  0.01598857 -0.11821346 -0.11705476\n",
      "   0.25625778  0.03804197]]\n",
      "(1, 1, 8)\n",
      "[matrix([[-0.11861302, -0.13586055,  0.00687021,  0.01598857, -0.11821346,\n",
      "         -0.11705476,  0.25625778,  0.03804197]])]\n",
      "_.__.__.__.__.__.__.__.__.__.__.__.__.__.__.__.__.__.__.__._\n"
     ]
    }
   ],
   "source": [
    "Uniquesample = np.random.rand(2,8)\n",
    "\n",
    "UN, W = Uniquesample.shape\n",
    "\n",
    "Xnorm = np.matrix(np.sqrt(np.sum(np.power(Uniquesample,2),axis=1))).T\n",
    "aux2 = Xnorm\n",
    "for i in range(W-1):\n",
    "    aux2 = np.insert(aux2,0,Xnorm.T,axis=1)\n",
    "Uniquesample1 = Uniquesample / aux2\n",
    "AA2 = np.mean(Uniquesample1,0)\n",
    "X2 = 1\n",
    "DT2 = X2 - np.sum(np.power(AA2,2))\n",
    "aux = []\n",
    "for i in range(UN): aux.append(AA2)\n",
    "\n",
    "for i in range(UN):\n",
    "    print(Uniquesample1[i].shape)\n",
    "    print(Uniquesample1[i])    \n",
    "    print('_'*50)\n",
    "    print(np.shape(aux[i]))\n",
    "    print(aux[i])\n",
    "    print('_'*50)\n",
    "    aux2 = [Uniquesample1[i]-aux[i]]\n",
    "    print(Uniquesample1[i]-aux[i])\n",
    "    print(np.shape(aux2))\n",
    "    print(aux2)\n",
    "    print('_._'*20)\n",
    "    \n",
    "a = np.power(aux2,2)\n",
    "\n",
    "b = np.sum(a,axis=1)\n",
    "\n",
    "c = np.sum(b,axis=1)"
   ]
  },
  {
   "cell_type": "code",
   "execution_count": null,
   "metadata": {},
   "outputs": [],
   "source": [
    "\n",
    "def pi_calculator(Uniquesample, mode):\n",
    "    UN, W = Uniquesample.shape\n",
    "    if mode == 'euclidean' or mode == 'mahalanobis' or mode == 'cityblock' or mode == 'chebyshev' or mode == 'canberra':\n",
    "        AA1 = Uniquesample.mean(0)\n",
    "        X1 = sum(sum(np.power(Uniquesample,2)))/UN\n",
    "        DT1 = X1 - sum(np.power(AA1,2))\n",
    "        aux = []\n",
    "        for i in range(UN): aux.append(AA1)\n",
    "        aux2 = [Uniquesample[i]-aux[i] for i in range(UN)]\n",
    "        uspi = np.sum(np.power(aux2,2),axis=1)+DT1\n",
    "        \n",
    "    if mode == 'minkowski':\n",
    "        AA1 = Uniquesample.mean(0)\n",
    "        X1 = sum(sum(np.power(Uniquesample,2)))/UN\n",
    "        DT1 = X1 - sum(np.power(AA1,2))\n",
    "        aux = np.matrix(AA1)\n",
    "        for i in range(UN-1): aux = np.insert(aux,0,AA1,axis=0)\n",
    "        aux = np.array(aux)\n",
    "        \n",
    "        uspi = np.power(cdist(Uniquesample, aux, mode, p=1.5),2)+DT1\n",
    "        uspi = uspi[:,0]\n",
    "    \n",
    "    if mode == 'cosine':\n",
    "        Xnorm = np.matrix(np.sqrt(np.sum(np.power(Uniquesample,2),axis=1))).T\n",
    "        aux2 = Xnorm\n",
    "        for i in range(W-1):\n",
    "            aux2 = np.insert(aux2,0,Xnorm.T,axis=1)\n",
    "        Uniquesample1 = Uniquesample / aux2\n",
    "        AA2 = np.mean(Uniquesample1,0)\n",
    "        X2 = 1\n",
    "        DT2 = X2 - np.sum(np.power(AA2,2))\n",
    "        aux = []\n",
    "        for i in range(UN): aux.append(AA2)\n",
    "        aux2 = [Uniquesample1[i]-aux[i] for i in range(UN)]\n",
    "        uspi = np.sum(np.sum(np.power(aux2,2),axis=1),axis=1)+DT2\n",
    "        \n",
    "    return uspi"
   ]
  }
 ],
 "metadata": {
  "kernelspec": {
   "display_name": "Python 3",
   "language": "python",
   "name": "python3"
  },
  "language_info": {
   "codemirror_mode": {
    "name": "ipython",
    "version": 3
   },
   "file_extension": ".py",
   "mimetype": "text/x-python",
   "name": "python",
   "nbconvert_exporter": "python",
   "pygments_lexer": "ipython3",
   "version": "3.7.6"
  }
 },
 "nbformat": 4,
 "nbformat_minor": 4
}
