{
 "cells": [
  {
   "cell_type": "code",
   "execution_count": 167,
   "id": "worth-freeze",
   "metadata": {},
   "outputs": [],
   "source": [
    "import numpy as np\n",
    "from scipy.spatial.distance import pdist, cdist, squareform\n",
    "from math import sqrt\n",
    "from numba import njit,jit"
   ]
  },
  {
   "cell_type": "code",
   "execution_count": 403,
   "id": "portuguese-consensus",
   "metadata": {},
   "outputs": [],
   "source": [
    "@njit\n",
    "def mydist(XA,XB,mode= 'euclidean'):\n",
    "    if mode == 'euclidean':\n",
    "        aux3 = []\n",
    "        for i in range (len(XA)):\n",
    "            aux2 = []\n",
    "            for j in range (len(XB)):\n",
    "                aux1 = []\n",
    "                bux1 = 0 \n",
    "                # calculate distance\n",
    "                for e1, e2 in zip(XB[j],XA[i,:]):\n",
    "                    aux1.append((e1-e2)**2)\n",
    "                    bux1 += ((e1-e2)**2)\n",
    "\n",
    "                    #aux1.append(sqrt(sum((e1-e2)**2)))\n",
    "                aux2.append(bux1**(0.5))\n",
    "            aux3.append(aux2)\n",
    "        return aux3\n",
    "    \n",
    "    if mode == 'cosine':\n",
    "        aux2 = []\n",
    "        for i in range(len(XA)):\n",
    "            aux1 = []\n",
    "            for j in range(len(XB)):\n",
    "                A = Uniquesample[j,:] - 1\n",
    "                B = Uniquesample[i,]\n",
    "                dot = 0\n",
    "                denom_a = 0\n",
    "                denom_b = 0\n",
    "                for k in range (len(XB[j,:])):\n",
    "                    dot += (XB[j,k]*XA[i,k])\n",
    "                    denom_a += (XB[j,k] * XB[j,k])\n",
    "                    denom_b += (XA[i,k] * XA[i,k])\n",
    "\n",
    "                aux1.append(1 - ((dot / ((denom_a ** 0.5) * (denom_b ** 0.5)))))\n",
    "            aux2.append(aux1)\n",
    "\n",
    "        return aux2"
   ]
  },
  {
   "cell_type": "code",
   "execution_count": 404,
   "id": "suited-struggle",
   "metadata": {},
   "outputs": [
    {
     "name": "stdout",
     "output_type": "stream",
     "text": [
      "[[1.  2.  3. ]\n",
      " [4.  4.5 5. ]\n",
      " [7.  8.  9. ]]\n"
     ]
    }
   ],
   "source": [
    "Uniquesample = np.array(([1,2,3],[4,4.5,5],[7,8,9]))\n",
    "print(Uniquesample)"
   ]
  },
  {
   "cell_type": "code",
   "execution_count": 405,
   "id": "continued-virginia",
   "metadata": {},
   "outputs": [
    {
     "name": "stdout",
     "output_type": "stream",
     "text": [
      "[[0.0438171125324851, 0.03662466183423507], [0.17142857142857137, 0.00032877613973902875], [0.16519031121168382, 0.00010379006756999765]]\n",
      "CPU times: user 0 ns, sys: 2.47 ms, total: 2.47 ms\n",
      "Wall time: 2.7 ms\n"
     ]
    }
   ],
   "source": [
    "%%time\n",
    "eucli1 = cdist(Uniquesample,Uniquesample[0:2,:]-1)\n",
    "print(uspi)"
   ]
  },
  {
   "cell_type": "code",
   "execution_count": 406,
   "id": "floral-static",
   "metadata": {},
   "outputs": [
    {
     "name": "stdout",
     "output_type": "stream",
     "text": [
      "[[4.38171125e-02 3.66246618e-02]\n",
      " [1.71428571e-01 3.28776140e-04]\n",
      " [1.65190311e-01 1.03790068e-04]]\n",
      "CPU times: user 791 ms, sys: 1.73 ms, total: 793 ms\n",
      "Wall time: 794 ms\n"
     ]
    }
   ],
   "source": [
    "%%time\n",
    "eucli2 = mydist(Uniquesample,Uniquesample[0:2,:]-1)\n",
    "print(np.array(uspi))"
   ]
  },
  {
   "cell_type": "code",
   "execution_count": 407,
   "id": "sitting-creation",
   "metadata": {},
   "outputs": [
    {
     "name": "stdout",
     "output_type": "stream",
     "text": [
      "[[4.38171125e-02 3.66246618e-02]\n",
      " [1.71428571e-01 3.28776140e-04]\n",
      " [1.65190311e-01 1.03790068e-04]]\n"
     ]
    }
   ],
   "source": [
    "cos1 = cdist(Uniquesample,Uniquesample[0:2,:]-1,metric = 'cosine')\n",
    "print(np.array(uspi))"
   ]
  },
  {
   "cell_type": "code",
   "execution_count": 408,
   "id": "measured-drink",
   "metadata": {},
   "outputs": [
    {
     "name": "stdout",
     "output_type": "stream",
     "text": [
      "[[4.38171125e-02 3.66246618e-02]\n",
      " [1.71428571e-01 3.28776140e-04]\n",
      " [1.65190311e-01 1.03790068e-04]]\n"
     ]
    }
   ],
   "source": [
    "uspi = mydist(Uniquesample,Uniquesample[0:2,:]-1,mode = 'cosine')\n",
    "print(np.array(uspi))"
   ]
  },
  {
   "cell_type": "code",
   "execution_count": null,
   "id": "married-lying",
   "metadata": {},
   "outputs": [],
   "source": []
  }
 ],
 "metadata": {
  "kernelspec": {
   "display_name": "Python 3",
   "language": "python",
   "name": "python3"
  },
  "language_info": {
   "codemirror_mode": {
    "name": "ipython",
    "version": 3
   },
   "file_extension": ".py",
   "mimetype": "text/x-python",
   "name": "python",
   "nbconvert_exporter": "python",
   "pygments_lexer": "ipython3",
   "version": "3.7.6"
  }
 },
 "nbformat": 4,
 "nbformat_minor": 5
}
