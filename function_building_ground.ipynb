{
 "cells": [
  {
   "cell_type": "code",
   "execution_count": 2,
   "id": "colonial-better",
   "metadata": {},
   "outputs": [],
   "source": [
    "import numpy as np\n",
    "from scipy.spatial.distance import pdist, cdist, squareform\n",
    "from math import sqrt\n",
    "from numba import njit,jit"
   ]
  },
  {
   "cell_type": "code",
   "execution_count": 14,
   "id": "western-boundary",
   "metadata": {},
   "outputs": [],
   "source": [
    "@njit\n",
    "def mydist(XA,XB,mode= 'euclidean'):\n",
    "    if mode == 'euclidean':\n",
    "        aux3 = []\n",
    "        for i in range (len(XA)):\n",
    "            aux2 = []\n",
    "            for j in range (len(XB)):\n",
    "                aux1 = []\n",
    "                bux1 = 0 \n",
    "                # calculate distance\n",
    "                for e1, e2 in zip(XB[j],XA[i,:]):\n",
    "                    aux1.append((e1-e2)**2)\n",
    "                    bux1 += ((e1-e2)**2)\n",
    "\n",
    "                    #aux1.append(sqrt(sum((e1-e2)**2)))\n",
    "                aux2.append(bux1**(0.5))\n",
    "            aux3.append(aux2)\n",
    "        return aux3\n",
    "    \n",
    "    if mode == 'cosine':\n",
    "        aux2 = []\n",
    "        for i in range(len(XA)):\n",
    "            aux1 = []\n",
    "            for j in range(len(XB)):\n",
    "                A = Uniquesample[j,:] - 1\n",
    "                B = Uniquesample[i,]\n",
    "                dot = 0\n",
    "                denom_a = 0\n",
    "                denom_b = 0\n",
    "                for k in range (len(XB[j,:])):\n",
    "                    dot += (XB[j,k]*XA[i,k])\n",
    "                    denom_a += (XB[j,k] * XB[j,k])\n",
    "                    denom_b += (XA[i,k] * XA[i,k])\n",
    "\n",
    "                aux1.append(1 - ((dot / ((denom_a ** 0.5) * (denom_b ** 0.5)))))\n",
    "            aux2.append(aux1)\n",
    "\n",
    "        return aux2"
   ]
  },
  {
   "cell_type": "code",
   "execution_count": 134,
   "id": "governing-modification",
   "metadata": {},
   "outputs": [],
   "source": [
    "#@njit\n",
    "def mydist(XA,XB,mode= 'euclidean'):\n",
    "    XA = XA[0]\n",
    "    XB = XB[0]\n",
    "    if mode == 'euclidean': \n",
    "        aux1 = 0\n",
    "        for e1, e2 in zip(XB,XA):\n",
    "            aux1 += ((e1-e2)**2)\n",
    "\n",
    "        dist = (aux1**(0.5))\n",
    "\n",
    "        return dist\n",
    "    \n",
    "    if mode == 'cosine':\n",
    "        dot = 0\n",
    "        denom_a = 0\n",
    "        denom_b = 0\n",
    "        for e1, e2 in zip(XB,XA):\n",
    "            dot += e1*e2\n",
    "            denom_a += e1 * e1\n",
    "            denom_b += e2 * e2\n",
    "\n",
    "        dist = (1 - ((dot / ((denom_a ** 0.5) * (denom_b ** 0.5)))))\n",
    "\n",
    "        return dist"
   ]
  },
  {
   "cell_type": "code",
   "execution_count": 233,
   "id": "herbal-anger",
   "metadata": {},
   "outputs": [],
   "source": [
    "def chessboard_division_std(Uniquesample, MMtypicality, interval1, interval2, distancetype):\n",
    "    L, W = Uniquesample.shape\n",
    "    if distancetype == 'euclidean':\n",
    "        W = 1\n",
    "    BOX = [Uniquesample[k] for k in range(W)]\n",
    "    BOX_miu = [Uniquesample[k] for k in range(W)]\n",
    "    BOX_S = [1]*W\n",
    "    BOX_X = [sum(Uniquesample[k]**2) for k in range(W)]\n",
    "    NB = W\n",
    "    BOXMT = [MMtypicality[k] for k in range(W)]\n",
    "\n",
    "    for i in range(W,L):\n",
    "        print(i)\n",
    "        print(Uniquesample[i].shape)\n",
    "        if distancetype == 'minkowski':\n",
    "            a = cdist(Uniquesample[i].reshape(1,-1), BOX_miu, metric=distancetype, p=1.5)\n",
    "        else:\n",
    "            a = cdist(Uniquesample[i].reshape(1,-1), BOX_miu, metric=distancetype)\n",
    "\n",
    "        b = np.sqrt(cdist(Uniquesample[i].reshape(1,-1), BOX_miu, metric='cosine'))\n",
    "        \n",
    "        distance = np.array([a[0],b[0]]).T\n",
    "        \n",
    "        #print('distance',distance)      \n",
    "        #print('distance type',type(distance))      \n",
    "        \n",
    "        SQ = []\n",
    "        for j,d in enumerate(distance):\n",
    "            #print('j',j)\n",
    "            #print('d',d)\n",
    "            if d[0] < interval1 and d[1] < interval2:\n",
    "                SQ.append(j)\n",
    "        print(SQ)\n",
    "        #SQ = np.argwhere(distance[::,0]<interval1 and (distance[::,1]<interval2))\n",
    "        COUNT = len(SQ)\n",
    "        if COUNT == 0:\n",
    "            BOX.append(Uniquesample[i])\n",
    "            NB = NB + 1\n",
    "            BOX_S.append(1)\n",
    "            BOX_miu.append(Uniquesample[i])\n",
    "            BOX_X.append(sum(Uniquesample[i]**2))\n",
    "            BOXMT.append(MMtypicality[i])\n",
    "        if COUNT >= 1:\n",
    "            DIS = distance[SQ[::],0]/interval1 + distance[SQ[::],1]/interval2 # pylint: disable=E1136  # pylint/issues/3139\n",
    "            b = np.argmin(DIS)\n",
    "            BOX_S[SQ[b]] = BOX_S[SQ[b]] + 1\n",
    "            BOX_miu[SQ[b]] = (BOX_S[SQ[b]]-1)/BOX_S[SQ[b]]*BOX_miu[SQ[b]] + Uniquesample[i]/BOX_S[SQ[b]]\n",
    "            BOX_X[SQ[b]] = (BOX_S[SQ[b]]-1)/BOX_S[SQ[b]]*BOX_X[SQ[b]] + sum(Uniquesample[i]**2)/BOX_S[SQ[b]]\n",
    "            BOXMT[SQ[b]] = BOXMT[SQ[b]] + MMtypicality[i]"
   ]
  },
  {
   "cell_type": "code",
   "execution_count": 234,
   "id": "metallic-description",
   "metadata": {},
   "outputs": [
    {
     "name": "stdout",
     "output_type": "stream",
     "text": [
      "1\n",
      "(3,)\n",
      "[0]\n",
      "2\n",
      "(3,)\n",
      "[0]\n",
      "CPU times: user 8.09 ms, sys: 3.73 ms, total: 11.8 ms\n",
      "Wall time: 12.5 ms\n"
     ]
    }
   ],
   "source": [
    "%%time\n",
    "chessboard_division_std(Uniquesample, MMtypicality, interval1, interval2, distancetype)"
   ]
  },
  {
   "cell_type": "code",
   "execution_count": 269,
   "id": "lasting-poultry",
   "metadata": {},
   "outputs": [],
   "source": [
    "#@njit\n",
    "def chessboard_division(Uniquesample, MMtypicality, interval1, interval2, distancetype):\n",
    "    L, W = Uniquesample.shape\n",
    "    if distancetype == 'euclidean':\n",
    "        W = 1\n",
    "    BOX = [Uniquesample[k] for k in range(W)]\n",
    "    BOX_miu = [Uniquesample[k] for k in range(W)]\n",
    "    BOX_S = [1]*W\n",
    "    BOX_X = [np.sum(Uniquesample[k]**2) for k in range(W)]\n",
    "    NB = W\n",
    "    BOXMT = [MMtypicality[k] for k in range(W)]\n",
    "\n",
    "    for i in range(W,L):\n",
    "        a = cdist(Uniquesample[i].reshape(1,-1), BOX_miu, metric=distancetype)\n",
    "        b = np.sqrt(cdist(Uniquesample[i].reshape(1,-1), BOX_miu, metric='cosine'))\n",
    "        \n",
    "        distance = np.array([a,b]).T.reshape(1,-1)\n",
    "        \n",
    "        print(distance.shape)\n",
    "\n",
    "        SQ = []\n",
    "        for j,d in enumerate(distance):\n",
    "            if d[0] < interval1 and d[1] < interval2:\n",
    "                SQ.append(j)\n",
    "                \n",
    "        COUNT = len(SQ)\n",
    "        if COUNT == 0:\n",
    "            BOX.append(Uniquesample[i])\n",
    "            NB = NB + 1\n",
    "            BOX_S.append(1)\n",
    "            BOX_miu.append(Uniquesample[i])\n",
    "            BOX_X.append(sum(Uniquesample[i]**2))\n",
    "            BOXMT.append(MMtypicality[i])\n",
    "        if COUNT >= 1:\n",
    "            DIS = distance[SQ[::],0]/interval1 + distance[SQ[::],1]/interval2 # pylint: disable=E1136  # pylint/issues/3139\n",
    "            b = np.argmin(DIS)\n",
    "            BOX_S[SQ[b]] = BOX_S[SQ[b]] + 1\n",
    "            BOX_miu[SQ[b]] = (BOX_S[SQ[b]]-1)/BOX_S[SQ[b]]*BOX_miu[SQ[b]] + Uniquesample[i]/BOX_S[SQ[b]]\n",
    "            BOX_X[SQ[b]] = (BOX_S[SQ[b]]-1)/BOX_S[SQ[b]]*BOX_X[SQ[b]] + sum(Uniquesample[i]**2)/BOX_S[SQ[b]]\n",
    "            BOXMT[SQ[b]] = BOXMT[SQ[b]] + MMtypicality[i]"
   ]
  },
  {
   "cell_type": "code",
   "execution_count": 270,
   "id": "tired-printing",
   "metadata": {},
   "outputs": [],
   "source": [
    "Uniquesample = np.array(([1,2,3],[1,5,7],[3,8,9]))\n",
    "MMtypicality = np.array(([43,29,30]))\n",
    "distancetype = 'euclidean'\n",
    "interval1 = np.array([6.86690614])\n",
    "interval2 = np.array([0.99159042])\n"
   ]
  },
  {
   "cell_type": "code",
   "execution_count": 271,
   "id": "environmental-vatican",
   "metadata": {},
   "outputs": [
    {
     "name": "stdout",
     "output_type": "stream",
     "text": [
      "(1, 2)\n",
      "(1, 2)\n",
      "CPU times: user 5.97 ms, sys: 162 µs, total: 6.13 ms\n",
      "Wall time: 4.01 ms\n"
     ]
    }
   ],
   "source": [
    "%%time\n",
    "chessboard_division(Uniquesample, MMtypicality, interval1, interval2, distancetype)"
   ]
  },
  {
   "cell_type": "code",
   "execution_count": null,
   "id": "instructional-finder",
   "metadata": {},
   "outputs": [],
   "source": []
  },
  {
   "cell_type": "code",
   "execution_count": null,
   "id": "conditional-catholic",
   "metadata": {},
   "outputs": [],
   "source": []
  }
 ],
 "metadata": {
  "kernelspec": {
   "display_name": "Python 3",
   "language": "python",
   "name": "python3"
  },
  "language_info": {
   "codemirror_mode": {
    "name": "ipython",
    "version": 3
   },
   "file_extension": ".py",
   "mimetype": "text/x-python",
   "name": "python",
   "nbconvert_exporter": "python",
   "pygments_lexer": "ipython3",
   "version": "3.7.6"
  }
 },
 "nbformat": 4,
 "nbformat_minor": 5
}
