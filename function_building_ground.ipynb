{
 "cells": [
  {
   "cell_type": "code",
   "execution_count": 2,
   "id": "distant-census",
   "metadata": {},
   "outputs": [],
   "source": [
    "import numpy as np\n",
    "from scipy.spatial.distance import pdist, cdist, squareform\n",
    "from math import sqrt\n",
    "from numba import njit,jit"
   ]
  },
  {
   "cell_type": "code",
   "execution_count": 14,
   "id": "jewish-philosophy",
   "metadata": {},
   "outputs": [],
   "source": [
    "@njit\n",
    "def mydist(XA,XB,mode= 'euclidean'):\n",
    "    if mode == 'euclidean':\n",
    "        aux3 = []\n",
    "        for i in range (len(XA)):\n",
    "            aux2 = []\n",
    "            for j in range (len(XB)):\n",
    "                aux1 = []\n",
    "                bux1 = 0 \n",
    "                # calculate distance\n",
    "                for e1, e2 in zip(XB[j],XA[i,:]):\n",
    "                    aux1.append((e1-e2)**2)\n",
    "                    bux1 += ((e1-e2)**2)\n",
    "\n",
    "                    #aux1.append(sqrt(sum((e1-e2)**2)))\n",
    "                aux2.append(bux1**(0.5))\n",
    "            aux3.append(aux2)\n",
    "        return aux3\n",
    "    \n",
    "    if mode == 'cosine':\n",
    "        aux2 = []\n",
    "        for i in range(len(XA)):\n",
    "            aux1 = []\n",
    "            for j in range(len(XB)):\n",
    "                A = Uniquesample[j,:] - 1\n",
    "                B = Uniquesample[i,]\n",
    "                dot = 0\n",
    "                denom_a = 0\n",
    "                denom_b = 0\n",
    "                for k in range (len(XB[j,:])):\n",
    "                    dot += (XB[j,k]*XA[i,k])\n",
    "                    denom_a += (XB[j,k] * XB[j,k])\n",
    "                    denom_b += (XA[i,k] * XA[i,k])\n",
    "\n",
    "                aux1.append(1 - ((dot / ((denom_a ** 0.5) * (denom_b ** 0.5)))))\n",
    "            aux2.append(aux1)\n",
    "\n",
    "        return aux2"
   ]
  },
  {
   "cell_type": "code",
   "execution_count": 134,
   "id": "loaded-channel",
   "metadata": {},
   "outputs": [],
   "source": [
    "#@njit\n",
    "def mydist(XA,XB,mode= 'euclidean'):\n",
    "    XA = XA[0]\n",
    "    XB = XB[0]\n",
    "    if mode == 'euclidean': \n",
    "        aux1 = 0\n",
    "        for e1, e2 in zip(XB,XA):\n",
    "            aux1 += ((e1-e2)**2)\n",
    "\n",
    "        dist = (aux1**(0.5))\n",
    "\n",
    "        return dist\n",
    "    \n",
    "    if mode == 'cosine':\n",
    "        dot = 0\n",
    "        denom_a = 0\n",
    "        denom_b = 0\n",
    "        for e1, e2 in zip(XB,XA):\n",
    "            dot += e1*e2\n",
    "            denom_a += e1 * e1\n",
    "            denom_b += e2 * e2\n",
    "\n",
    "        dist = (1 - ((dot / ((denom_a ** 0.5) * (denom_b ** 0.5)))))\n",
    "\n",
    "        return dist"
   ]
  },
  {
   "cell_type": "code",
   "execution_count": 135,
   "id": "appreciated-patient",
   "metadata": {},
   "outputs": [],
   "source": [
    "Uniquesample = np.array(([1,2,3],[1,5,7],[3,8,9]))\n",
    "MMtypicality = np.array(([43,29,30]))\n",
    "distancetype = 'euclidean'"
   ]
  },
  {
   "cell_type": "code",
   "execution_count": 136,
   "id": "unlike-pearl",
   "metadata": {},
   "outputs": [],
   "source": [
    "@njit\n",
    "def chessboard(Uniquesample,MMtypicality,distancetype):\n",
    "    L, W = Uniquesample.shape\n",
    "    if distancetype == 'euclidean':\n",
    "        W = 1\n",
    "    BOX = [Uniquesample[k] for k in range(W)]\n",
    "    BOX_miu = [Uniquesample[k] for k in range(W)]\n",
    "    BOX_S = [1]*W\n",
    "    BOX_X = [np.sum(Uniquesample[k]**2) for k in range(W)]\n",
    "    NB = W\n",
    "    BOXMT = [MMtypicality[k] for k in range(W)]\n",
    "\n",
    "    for i in range(W,L):\n",
    "        aux1 = 0\n",
    "        dot = 0\n",
    "        denom_a = 0\n",
    "        denom_b = 0\n",
    "        for e1, e2 in zip(BOX_miu[0],Uniquesample[i]):\n",
    "            aux1 += ((e1-e2)**2)\n",
    "\n",
    "        a = (aux1**(0.5))    \n",
    "        for e1, e2 in zip(BOX_miu[0],Uniquesample[i]):\n",
    "            dot += e1*e2\n",
    "            denom_a += e1 * e1\n",
    "            denom_b += e2 * e2\n",
    "\n",
    "        b = (1 - ((dot / ((denom_a ** 0.5) * (denom_b ** 0.5)))))   "
   ]
  },
  {
   "cell_type": "code",
   "execution_count": 137,
   "id": "angry-atlanta",
   "metadata": {},
   "outputs": [],
   "source": [
    "def chessboard_std (Uniquesample,MMtypicality,distancetype):\n",
    "    L, W = Uniquesample.shape\n",
    "    if distancetype == 'euclidean':\n",
    "        W = 1\n",
    "    BOX = [Uniquesample[k] for k in range(W)]\n",
    "    BOX_miu = [Uniquesample[k] for k in range(W)]\n",
    "    BOX_S = [1]*W\n",
    "    BOX_X = [np.sum(Uniquesample[k]**2) for k in range(W)]\n",
    "    NB = W\n",
    "    BOXMT = [MMtypicality[k] for k in range(W)]\n",
    "    for i in range(W,L):\n",
    "        if distancetype == 'minkowski':\n",
    "            a = cdist(Uniquesample[i].reshape(1,-1), BOX_miu, metric=distancetype, p=1.5)\n",
    "        else:\n",
    "            a = cdist(Uniquesample[i].reshape(1,-1), BOX_miu, metric=distancetype)\n",
    "\n",
    "        b = np.sqrt(cdist(Uniquesample[i].reshape(1,-1), BOX_miu, metric='cosine'))"
   ]
  },
  {
   "cell_type": "code",
   "execution_count": 140,
   "id": "residential-reasoning",
   "metadata": {},
   "outputs": [
    {
     "name": "stdout",
     "output_type": "stream",
     "text": [
      "CPU times: user 11 µs, sys: 0 ns, total: 11 µs\n",
      "Wall time: 19.8 µs\n"
     ]
    }
   ],
   "source": [
    "%%time\n",
    "chessboard(Uniquesample,MMtypicality,distancetype)"
   ]
  },
  {
   "cell_type": "code",
   "execution_count": 142,
   "id": "split-export",
   "metadata": {},
   "outputs": [
    {
     "name": "stdout",
     "output_type": "stream",
     "text": [
      "CPU times: user 1.06 ms, sys: 18 µs, total: 1.08 ms\n",
      "Wall time: 863 µs\n"
     ]
    }
   ],
   "source": [
    "%%time\n",
    "chessboard_std(Uniquesample,MMtypicality,distancetype)"
   ]
  },
  {
   "cell_type": "code",
   "execution_count": null,
   "id": "spare-description",
   "metadata": {},
   "outputs": [],
   "source": []
  },
  {
   "cell_type": "code",
   "execution_count": null,
   "id": "indian-unemployment",
   "metadata": {},
   "outputs": [],
   "source": []
  }
 ],
 "metadata": {
  "kernelspec": {
   "display_name": "Python 3",
   "language": "python",
   "name": "python3"
  },
  "language_info": {
   "codemirror_mode": {
    "name": "ipython",
    "version": 3
   },
   "file_extension": ".py",
   "mimetype": "text/x-python",
   "name": "python",
   "nbconvert_exporter": "python",
   "pygments_lexer": "ipython3",
   "version": "3.7.6"
  }
 },
 "nbformat": 4,
 "nbformat_minor": 5
}
