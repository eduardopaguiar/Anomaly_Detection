{
 "cells": [
  {
   "cell_type": "code",
   "execution_count": 93,
   "metadata": {},
   "outputs": [],
   "source": [
    "import numpy as np\n",
    "from numba import njit, jit\n",
    "import pickle\n",
    "from numba.typed import List\n",
    "\n",
    "from scipy.spatial.distance import cdist, pdist"
   ]
  },
  {
   "cell_type": "code",
   "execution_count": 177,
   "metadata": {},
   "outputs": [],
   "source": [
    "var = pickle.load(open('var1.pickle', 'rb'))"
   ]
  },
  {
   "cell_type": "code",
   "execution_count": 178,
   "metadata": {},
   "outputs": [
    {
     "name": "stdout",
     "output_type": "stream",
     "text": [
      "<class 'numpy.ndarray'>\n",
      "<class 'numpy.ndarray'>\n",
      "<class 'numpy.ndarray'>\n",
      "<class 'int'>\n",
      "<class 'numpy.float64'>\n",
      "<class 'numpy.float64'>\n"
     ]
    }
   ],
   "source": [
    "Box = var ['BOX']\n",
    "BOX_miu = var ['BOX_miu']\n",
    "BOX_S = var ['BOX_S']\n",
    "NB = var ['NB']\n",
    "intervel1 = var ['interval1']\n",
    "intervel2 = var ['interval2']\n",
    "print(type(Box))\n",
    "print(type(BOX_miu))\n",
    "print(type(BOX_S))\n",
    "print(type(NB))\n",
    "print(type(intervel1))\n",
    "print(type(intervel2))"
   ]
  },
  {
   "cell_type": "code",
   "execution_count": 179,
   "metadata": {},
   "outputs": [
    {
     "name": "stdout",
     "output_type": "stream",
     "text": [
      "[[14.95026657 -2.49513858  1.08329909 ... -0.77966473  1.33400379\n",
      "   0.14598842]\n",
      " [12.91330806 -4.78882708  3.26570517 ...  0.97170965  2.42642645\n",
      "  -0.18516359]\n",
      " [ 9.29097232  6.39343343  2.50659111 ...  5.98935651 -0.29082587\n",
      "   2.321144  ]\n",
      " ...\n",
      " [ 1.38146831  3.9002878  -2.60232876 ...  0.62537818  0.69615654\n",
      "   1.38614751]\n",
      " [ 5.78957577 -0.72839965  1.46103951 ... -3.22743447  0.26044708\n",
      "  -0.85453244]\n",
      " [-0.0406802  -0.17041859 -2.06567524 ... -0.10295728 -0.22048968\n",
      "   0.71882213]]\n",
      "[[14.95026657 -2.49513858  1.08329909 ... -0.77966473  1.33400379\n",
      "   0.14598842]\n",
      " [12.91330806 -4.78882708  3.26570517 ...  0.97170965  2.42642645\n",
      "  -0.18516359]\n",
      " [ 9.29097232  6.39343343  2.50659111 ...  5.98935651 -0.29082587\n",
      "   2.321144  ]\n",
      " ...\n",
      " [ 1.38146831  3.9002878  -2.60232876 ...  0.62537818  0.69615654\n",
      "   1.38614751]\n",
      " [ 5.78957577 -0.72839965  1.46103951 ... -3.22743447  0.26044708\n",
      "  -0.85453244]\n",
      " [-0.0406802  -0.17041859 -2.06567524 ... -0.10295728 -0.22048968\n",
      "   0.71882213]]\n",
      "[1 1 1 1 1 1 1 1 1 1 1 1 1 1 1 1 1 1 1 1 1 1 1 1 1 1 1 1 1 2 1 1 1 1 1 1 1\n",
      " 1 1 1 1 1 1 1 1 1 1 1 1 1 1 1 1 1 1 1 1 3 1 1 1 1 1 1 1 1 1 1 1 1 1 1 1 1\n",
      " 1 1 1 2 1 1 1 1 1 1 1 1 1 1 1 1 1 3 2 1 1 1 3 1 1 1 2 1 3 1 1 2 2 1 1 1 1\n",
      " 2 1 1 1 1 1 1 2 1 2 1 1 1 1 1 1 1 1 1 1 1 1 2 1 2 2 1 1 2 1 1 1 1 1 1 1 1\n",
      " 1 2 1 3 1 1 1 1 3 1 2 1 1 3 1 3 1 2 1 1 1 1 2 1 1 2 1 2 1 2 1 3 2 1 1 2 1\n",
      " 1 1 1 2 1 1 1 1 1 1 2 1 1 1 1 1 1 1 1 1 1 1 1 1 1 1 1 1 1 1 1 2 1 1 1 1 1\n",
      " 1 1 1 4 1 2 1 2 1 1 1 1 1 2 1 1 1 1 2 1 1 1 1 1 1 1 1 1 2 1 2 1 1 1 1 1 1\n",
      " 1 2 1 1 1 1 1 1 1 1 1 1 1 1 1 1 1 1 1 1 1 1 1 1 3 1 1 1 1 1 1 1 2 1 1 1 1\n",
      " 1 1 1 1 1 1 1 1 1 1 1 1 1 1 1 1 1 1 1 1 1 1 1 1 1 1 1 1 1 1 1 1 1 1 1 1 1\n",
      " 2 1 1 1 1 1 1 2 1 1 1 1 1 1 1 1 1 1 1 1 2 1 1 1 1 1 1 1 1 1 1 1 1 1 1 1 2\n",
      " 1 1 1 1 1 1 1 1 1 1 1 1 1 1 1 1 1 1 1 1 1 1 1 1 1 1 1 1 1 1 1 1 1 1 1 1 1\n",
      " 1 2 1 1 1 1 1 1 1 1 1 1 1 1 1 1 2 1 1 1 1 1 1 1 1 1 1 1 1 1 1]\n",
      "438\n",
      "1.373178652917871\n",
      "0.19824038123735593\n"
     ]
    }
   ],
   "source": [
    "print(Box)\n",
    "print(BOX_miu)\n",
    "print(BOX_S)\n",
    "print(NB)\n",
    "print(intervel1)\n",
    "print(intervel2)"
   ]
  },
  {
   "cell_type": "code",
   "execution_count": 180,
   "metadata": {},
   "outputs": [],
   "source": [
    "def Chessboard_online_merge_std(Box,BOX_miu,BOX_S,NB,intervel1,intervel2):\n",
    "    threshold1=intervel1/2\n",
    "    threshold2=intervel2/2\n",
    "    NB1=0\n",
    "    \n",
    "    while NB1 != NB:\n",
    "        CC = 0\n",
    "        NB1 = NB\n",
    "        for ii in range(NB):\n",
    "            seq1 = [i for i in range(NB) if i != ii]\n",
    "\n",
    "            distance1 = cdist(BOX_miu[ii].reshape(1,-1), BOX_miu[seq1], 'euclidean')\n",
    "            distance2 = np.sqrt(cdist(BOX_miu[ii].reshape(1,-1), BOX_miu[seq1], 'cosine'))\n",
    "\n",
    "            for jj in range(NB-1):\n",
    "                if distance1[0,jj] < threshold1 and distance2[0,jj] < threshold2:\n",
    "                    CC = 1\n",
    "                    NB -= 1\n",
    "                    Box = np.delete(Box, (ii), axis=0)\n",
    "                    BOX_miu[seq1[jj]] = BOX_miu[seq1[jj]]*BOX_S[seq1[jj]]/(BOX_S[seq1[jj]]+BOX_S[ii])+BOX_miu[ii]*BOX_S[ii]/(BOX_S[seq1[jj]]+BOX_S[ii])\n",
    "                    \n",
    "                    BOX_S[seq1[jj]] = BOX_S[seq1[jj]] + BOX_S[ii]\n",
    "                    BOX_miu = np.delete(BOX_miu, (ii), axis=0)\n",
    "                    BOX_S = np.delete(BOX_S, (ii), axis=0)\n",
    "                    \n",
    "                    break\n",
    "            if CC == 1:\n",
    "                break                 \n",
    "    return Box,BOX_miu,BOX_S,NB"
   ]
  },
  {
   "cell_type": "code",
   "execution_count": 181,
   "metadata": {},
   "outputs": [
    {
     "name": "stdout",
     "output_type": "stream",
     "text": [
      "Wall time: 121 ms\n"
     ]
    }
   ],
   "source": [
    "%%time\n",
    "Box_std, BOX_miu_std, BOX_S_std, NB_std = Chessboard_online_merge_std(Box,BOX_miu,BOX_S,NB,intervel1,intervel2)"
   ]
  },
  {
   "cell_type": "code",
   "execution_count": 182,
   "metadata": {},
   "outputs": [],
   "source": [
    "@njit\n",
    "def Chessboard_online_merge_njit(Box,BOX_miu,BOX_S,NB,intervel1,intervel2):\n",
    "    threshold1=intervel1/2\n",
    "    threshold2=intervel2/2\n",
    "    NB1=0\n",
    "    \n",
    "    L,W = BOX_miu.shape\n",
    "    deleted_rows = 0\n",
    "    while NB1 != NB:\n",
    "        CC = 0\n",
    "        NB1 = NB\n",
    "        for ii in range(NB):\n",
    "            \n",
    "            seq1 = [i for i in range(NB) if i != ii]\n",
    "            # distance1 = cdist(BOX_miu[ii].reshape(1,-1), BOX_miu[seq1], 'euclidean')\n",
    "            \n",
    "            distance1 = List()\n",
    "            for i in range(NB):\n",
    "                if i!= ii:\n",
    "                    aux = 0\n",
    "                    for jj in range(W):\n",
    "                        aux += (BOX_miu[ii,jj] - BOX_miu[i,jj])**2\n",
    "                \n",
    "                    distance1.append(aux**.5)  \n",
    "                        \n",
    "                        \n",
    "            #distance2 = np.sqrt(cdist(BOX_miu[ii].reshape(1,-1), BOX_miu[seq1], 'cosine'))\n",
    "            \n",
    "            distance2 = List()\n",
    "            for i in range(NB):\n",
    "                if i!= ii:\n",
    "                    num = 0\n",
    "                    den1 = 0\n",
    "                    den2 = 0\n",
    "                    for jj in range(W):\n",
    "                        num += BOX_miu[ii,jj]*BOX_miu[i,jj]\n",
    "                        den1 += BOX_miu[ii,jj]**2\n",
    "                        den2 += BOX_miu[i,jj]**2\n",
    "                    \n",
    "                    d2 = (1 - num/(den1**.5 * den2**.5) )\n",
    "                    if d2 < 0:               \n",
    "                        distance2.append(d2**.5)  \n",
    "                    else:\n",
    "                        distance2.append(0)\n",
    "            \n",
    "            for jj in range(NB-1):\n",
    "                if distance1[jj] < threshold1 and distance2[jj] < threshold2:\n",
    "                    CC = 1\n",
    "                    NB -= 1\n",
    "                    #Box = np.delete(Box, (ii))\n",
    "                    BOX_miu[seq1[jj]] = BOX_miu[seq1[jj]]*BOX_S[seq1[jj]]/(BOX_S[seq1[jj]]+BOX_S[ii])+BOX_miu[ii]*BOX_S[ii]/(BOX_S[seq1[jj]]+BOX_S[ii])\n",
    "                    \n",
    "                    BOX_S[seq1[jj]] = BOX_S[seq1[jj]] + BOX_S[ii]\n",
    "                    \n",
    "                    \n",
    "                    ### ----------------------------------------------------------------------- ###\n",
    "                    \n",
    "                    \n",
    "                    #BOX_miu = np.delete(BOX_miu, (ii))\n",
    "                    #BOX_S = np.delete(BOX_S, (ii))\n",
    "                    deleted_rows += 1\n",
    "                    for i in range(L):\n",
    "                        if i < ii:\n",
    "                            for iii in range(W):\n",
    "                                Box[i,iii] = Box[i,iii]\n",
    "                                BOX_miu[i,iii] = BOX_miu[i,iii]\n",
    "                            BOX_S[i] = BOX_S[i]\n",
    "                        elif i < (L - deleted_rows):\n",
    "                            for iii in range(W):\n",
    "                                Box[i,iii] = Box[i+1,iii]\n",
    "                                BOX_miu[i,iii] = BOX_miu[i+1,iii]\n",
    "                            BOX_S[i] = BOX_S[i+1]\n",
    "                        else:\n",
    "                            for iii in range(W):\n",
    "                                Box[i,iii] = 0\n",
    "                                BOX_miu[i,iii] = 0\n",
    "                            BOX_S[i] = 0\n",
    "                            \n",
    "                    \n",
    "                    ### ----------------------------------------------------------------------- ###\n",
    "                    break\n",
    "            if CC == 1:\n",
    "                break                 \n",
    "    return Box,BOX_miu,BOX_S,NB, deleted_rows"
   ]
  },
  {
   "cell_type": "code",
   "execution_count": 183,
   "metadata": {},
   "outputs": [
    {
     "name": "stdout",
     "output_type": "stream",
     "text": [
      "Wall time: 1.09 s\n"
     ]
    }
   ],
   "source": [
    "%%time\n",
    "Box_njit, BOX_miu_njit, BOX_S_njit, NB_njit, deleted_rows = Chessboard_online_merge_njit(Box,BOX_miu,BOX_S,NB,intervel1,intervel2)"
   ]
  },
  {
   "cell_type": "code",
   "execution_count": 184,
   "metadata": {},
   "outputs": [
    {
     "name": "stdout",
     "output_type": "stream",
     "text": [
      "----- Box -----\n",
      "0.0\n",
      "STD Type:  <class 'numpy.ndarray'>\n",
      "NJIT Type:  <class 'numpy.ndarray'>\n",
      "----- Box_miu -----\n",
      "0.0\n",
      "STD Type:  <class 'numpy.ndarray'>\n",
      "NJIT Type:  <class 'numpy.ndarray'>\n",
      "----- Box_S -----\n",
      "0\n",
      "STD Type:  <class 'numpy.ndarray'>\n",
      "NJIT Type:  <class 'numpy.ndarray'>\n",
      "----- NB -----\n",
      "0\n",
      "STD Type:  <class 'int'>\n",
      "NJIT Type:  <class 'int'>\n"
     ]
    }
   ],
   "source": [
    "print(\"----- Box -----\")\n",
    "print(sum(sum(Box_std - Box_njit)))\n",
    "print(\"STD Type: \", type(Box_std))\n",
    "print(\"NJIT Type: \", type(Box_njit))\n",
    "\n",
    "print(\"----- Box_miu -----\")\n",
    "print(sum(sum(BOX_miu_std - BOX_miu_njit)))\n",
    "print(\"STD Type: \", type(BOX_miu_std))\n",
    "print(\"NJIT Type: \", type(BOX_miu_njit))\n",
    "\n",
    "print(\"----- Box_S -----\")\n",
    "print(sum(BOX_S_std - BOX_S_njit))\n",
    "print(\"STD Type: \", type(BOX_S_std))\n",
    "print(\"NJIT Type: \", type(BOX_S_njit))\n",
    "\n",
    "print(\"----- NB -----\")\n",
    "print(NB_std - NB_njit)\n",
    "print(\"STD Type: \", type(NB_std))\n",
    "print(\"NJIT Type: \", type(NB_njit))"
   ]
  },
  {
   "cell_type": "code",
   "execution_count": 185,
   "metadata": {},
   "outputs": [
    {
     "data": {
      "text/plain": [
       "0"
      ]
     },
     "execution_count": 185,
     "metadata": {},
     "output_type": "execute_result"
    }
   ],
   "source": [
    "deleted_rows"
   ]
  }
 ],
 "metadata": {
  "kernelspec": {
   "display_name": "Python 3",
   "language": "python",
   "name": "python3"
  },
  "language_info": {
   "codemirror_mode": {
    "name": "ipython",
    "version": 3
   },
   "file_extension": ".py",
   "mimetype": "text/x-python",
   "name": "python",
   "nbconvert_exporter": "python",
   "pygments_lexer": "ipython3",
   "version": "3.8.5"
  }
 },
 "nbformat": 4,
 "nbformat_minor": 4
}
